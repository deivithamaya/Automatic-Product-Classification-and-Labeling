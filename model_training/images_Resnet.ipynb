{
 "cells": [
  {
   "cell_type": "markdown",
   "metadata": {},
   "source": [
    "# Imports"
   ]
  },
  {
   "cell_type": "code",
   "execution_count": 1,
   "metadata": {},
   "outputs": [
    {
     "name": "stdout",
     "output_type": "stream",
     "text": [
      "True\n"
     ]
    }
   ],
   "source": [
    "import tensorflow as tf\n",
    "from tensorflow.keras import layers, models\n",
    "from tensorflow.keras.applications import ResNet50\n",
    "from tensorflow.keras.preprocessing.image import ImageDataGenerator\n",
    "from sklearn.preprocessing import LabelEncoder\n",
    "import pandas as pd\n",
    "import numpy as np\n",
    "import os\n",
    "from tensorflow.keras.callbacks import EarlyStopping, ReduceLROnPlateau\n",
    "\n",
    "from sklearn.utils.class_weight import compute_class_weight\n",
    "\n",
    "from sklearn.preprocessing import OneHotEncoder\n",
    "import pickle\n",
    "listdis = os.listdir('./artifacts')\n",
    "print('label_encoder.pkl' in listdis)\n",
    "from tensorflow.keras.utils import to_categorical\n",
    "\n",
    "from tensorflow.keras import regularizers\n",
    "\n",
    "\n",
    "from tensorflow.keras.layers import RandomFlip, RandomRotation"
   ]
  },
  {
   "cell_type": "code",
   "execution_count": null,
   "metadata": {},
   "outputs": [],
   "source": [
    "import keras_tuner as kt\n",
    "from tensorflow.keras import backend as K\n",
    "from tensorflow import keras\n",
    "\n",
    "import tensorflow as tf\n",
    "from tensorflow.keras.applications import ResNet50\n",
    "from tensorflow.keras.models import Model\n",
    "from tensorflow.keras.layers import Input, Dense, Dropout, Flatten, BatchNormalization, Conv2D\n",
    "from tensorflow.keras.callbacks import EarlyStopping, ReduceLROnPlateau\n",
    "from tensorflow.keras.regularizers import l2\n",
    "\n",
    "from tensorflow.keras.layers import Conv2D, BatchNormalization, Activation, add, Flatten, MaxPooling2D, SpatialDropout2D"
   ]
  },
  {
   "cell_type": "code",
   "execution_count": null,
   "metadata": {},
   "outputs": [],
   "source": []
  },
  {
   "cell_type": "markdown",
   "metadata": {},
   "source": [
    "# Settings"
   ]
  },
  {
   "cell_type": "code",
   "execution_count": 2,
   "metadata": {},
   "outputs": [],
   "source": [
    "# Configuración\n",
    "batch_size = 32\n",
    "img_height = 224\n",
    "img_width = 224\n",
    "data_dir = 'imagenes/product_images'"
   ]
  },
  {
   "cell_type": "markdown",
   "metadata": {},
   "source": [
    "# Read Data"
   ]
  },
  {
   "cell_type": "code",
   "execution_count": 3,
   "metadata": {},
   "outputs": [],
   "source": [
    "# Recargar los datos filtrados\n",
    "train_data = pd.read_csv('train_filtered.csv')\n",
    "val_data = pd.read_csv('val_filtered.csv')\n",
    "test_data = pd.read_csv('test_filtered.csv')"
   ]
  },
  {
   "cell_type": "markdown",
   "metadata": {},
   "source": [
    "# Encode Labels"
   ]
  },
  {
   "cell_type": "code",
   "execution_count": 4,
   "metadata": {},
   "outputs": [],
   "source": [
    "def encode_labels(train_data, val_data, test_data, column):\n",
    "    train_labels = train_data[column]\n",
    "    val_labels = val_data[column]\n",
    "    test_labels = test_data[column]    \n",
    "\n",
    "    if 'label_encoder2.pkl' in listdis:\n",
    "        with open('artifacts/label_encoder2.pkl', 'rb') as f:\n",
    "            le = pickle.load(f)\n",
    "        print('carge')\n",
    "    else:\n",
    "        le = LabelEncoder()\n",
    "        print(\"else\")\n",
    "\n",
    "    print(f\"num clases {le.classes_} \" )\n",
    "\n",
    "    num_classes = 13\n",
    "    train_label_le = le.transform(train_labels)\n",
    "    val_label_le = le.transform(val_labels)\n",
    "    test_label_le = le.transform(test_labels)\n",
    "\n",
    "    train_label_cate = to_categorical(train_label_le)\n",
    "    val_label_cate = to_categorical(val_label_le)\n",
    "    test_label_cate = to_categorical(test_label_le)\n",
    "\n",
    "    return train_label_cate, val_label_cate, test_label_cate, train_label_le, num_classes\n",
    "\n"
   ]
  },
  {
   "cell_type": "code",
   "execution_count": 5,
   "metadata": {},
   "outputs": [
    {
     "name": "stdout",
     "output_type": "stream",
     "text": [
      "carge\n",
      "num clases ['Appliances' 'Audio' 'Cameras & Camcorders' 'Car Electronics & GPS'\n",
      " 'Cell Phones' 'Computers & Tablets' 'Connected Home & Housewares'\n",
      " 'Health, Fitness & Beauty' 'Musical Instruments' 'Other'\n",
      " 'TV & Home Theater' 'Toys, Games & Drones' 'Video Games' nan] \n"
     ]
    },
    {
     "name": "stderr",
     "output_type": "stream",
     "text": [
      "/usr/local/lib/python3.8/dist-packages/sklearn/base.py:318: UserWarning: Trying to unpickle estimator LabelEncoder from version 1.3.2 when using version 1.2.2. This might lead to breaking code or invalid results. Use at your own risk. For more info please refer to:\n",
      "https://scikit-learn.org/stable/model_persistence.html#security-maintainability-limitations\n",
      "  warnings.warn(\n"
     ]
    }
   ],
   "source": [
    "train_labels, val_labels, test_labels, train_label_le, num_classes = encode_labels(train_data, val_data, test_data, 'subcat1_name')\n",
    "class_weights = compute_class_weight('balanced', classes=np.unique(train_label_le), y=train_label_le)\n",
    "class_weight_dict = dict(enumerate(class_weights))"
   ]
  },
  {
   "cell_type": "markdown",
   "metadata": {},
   "source": [
    "# Preprocess image"
   ]
  },
  {
   "cell_type": "code",
   "execution_count": 6,
   "metadata": {},
   "outputs": [
    {
     "name": "stderr",
     "output_type": "stream",
     "text": [
      "2024-08-12 16:48:34.315791: I tensorflow/stream_executor/cuda/cuda_gpu_executor.cc:961] could not open file to read NUMA node: /sys/bus/pci/devices/0000:01:00.0/numa_node\n",
      "Your kernel may have been built without NUMA support.\n",
      "2024-08-12 16:48:34.343443: I tensorflow/stream_executor/cuda/cuda_gpu_executor.cc:961] could not open file to read NUMA node: /sys/bus/pci/devices/0000:01:00.0/numa_node\n",
      "Your kernel may have been built without NUMA support.\n",
      "2024-08-12 16:48:34.343793: I tensorflow/stream_executor/cuda/cuda_gpu_executor.cc:961] could not open file to read NUMA node: /sys/bus/pci/devices/0000:01:00.0/numa_node\n",
      "Your kernel may have been built without NUMA support.\n",
      "2024-08-12 16:48:34.346379: I tensorflow/core/platform/cpu_feature_guard.cc:193] This TensorFlow binary is optimized with oneAPI Deep Neural Network Library (oneDNN) to use the following CPU instructions in performance-critical operations:  AVX2 FMA\n",
      "To enable them in other operations, rebuild TensorFlow with the appropriate compiler flags.\n",
      "2024-08-12 16:48:34.351800: I tensorflow/stream_executor/cuda/cuda_gpu_executor.cc:961] could not open file to read NUMA node: /sys/bus/pci/devices/0000:01:00.0/numa_node\n",
      "Your kernel may have been built without NUMA support.\n",
      "2024-08-12 16:48:34.352302: I tensorflow/stream_executor/cuda/cuda_gpu_executor.cc:961] could not open file to read NUMA node: /sys/bus/pci/devices/0000:01:00.0/numa_node\n",
      "Your kernel may have been built without NUMA support.\n",
      "2024-08-12 16:48:34.352857: I tensorflow/stream_executor/cuda/cuda_gpu_executor.cc:961] could not open file to read NUMA node: /sys/bus/pci/devices/0000:01:00.0/numa_node\n",
      "Your kernel may have been built without NUMA support.\n",
      "2024-08-12 16:48:35.086814: I tensorflow/stream_executor/cuda/cuda_gpu_executor.cc:961] could not open file to read NUMA node: /sys/bus/pci/devices/0000:01:00.0/numa_node\n",
      "Your kernel may have been built without NUMA support.\n",
      "2024-08-12 16:48:35.087104: I tensorflow/stream_executor/cuda/cuda_gpu_executor.cc:961] could not open file to read NUMA node: /sys/bus/pci/devices/0000:01:00.0/numa_node\n",
      "Your kernel may have been built without NUMA support.\n",
      "2024-08-12 16:48:35.087121: I tensorflow/core/common_runtime/gpu/gpu_device.cc:1616] Could not identify NUMA node of platform GPU id 0, defaulting to 0.  Your kernel may not have been built with NUMA support.\n",
      "2024-08-12 16:48:35.087335: I tensorflow/stream_executor/cuda/cuda_gpu_executor.cc:961] could not open file to read NUMA node: /sys/bus/pci/devices/0000:01:00.0/numa_node\n",
      "Your kernel may have been built without NUMA support.\n",
      "2024-08-12 16:48:35.087376: I tensorflow/core/common_runtime/gpu/gpu_device.cc:1532] Created device /job:localhost/replica:0/task:0/device:GPU:0 with 9552 MB memory:  -> device: 0, name: NVIDIA GeForce RTX 3060, pci bus id: 0000:01:00.0, compute capability: 8.6\n"
     ]
    }
   ],
   "source": [
    "def preprocess_image(file_name):\n",
    "    raw = tf.io.read_file(file_name)\n",
    "    tensor = tf.image.decode_jpeg(raw, channels=3)\n",
    "    tensor2 = tf.image.resize(tensor, [224, 224], preserve_aspect_ratio=True)\n",
    "    shape = tf.shape(tensor2)\n",
    "    h = (224 - shape[0]) //2\n",
    "    w = (224 - shape[1]) //2\n",
    "    h = tf.maximum(h, 0)\n",
    "    w = tf.maximum(w, 0)\n",
    "    tensor = tf.image.pad_to_bounding_box(tensor2, int(h), int(w), 224, 224)\n",
    "    mask = tf.image.pad_to_bounding_box(tf.ones_like(tensor2), h, w, 224, 224)\n",
    "    tensor = tf.cast(tensor, tf.float32) / 255.0\n",
    "    tensor = tensor * mask + (1 - mask) * 0.5\n",
    "\n",
    "    return tensor\n",
    "\n",
    "def create_dataset(data, image_column, labels):\n",
    "    image_paths = data[image_column].values\n",
    "    dataset = tf.data.Dataset.from_tensor_slices((image_paths, labels))\n",
    "    dataset = dataset.map(lambda x, y: (preprocess_image(x), y), num_parallel_calls=tf.data.AUTOTUNE)\n",
    "    return dataset\n",
    "\n",
    "train_ds = create_dataset(train_data, 'image', train_labels)\n",
    "val_ds = create_dataset(val_data, 'image', val_labels)\n",
    "test_ds = create_dataset(test_data, 'image', test_labels)\n",
    "\n",
    "train_ds = train_ds.shuffle(1000).batch(batch_size).prefetch(buffer_size=tf.data.AUTOTUNE)\n",
    "val_ds = val_ds.batch(batch_size).prefetch(buffer_size=tf.data.AUTOTUNE)\n",
    "test_ds = test_ds.batch(batch_size).prefetch(buffer_size=tf.data.AUTOTUNE)"
   ]
  },
  {
   "cell_type": "markdown",
   "metadata": {},
   "source": [
    "## F1 Score"
   ]
  },
  {
   "cell_type": "code",
   "execution_count": 9,
   "metadata": {},
   "outputs": [],
   "source": [
    "class F1Score(tf.keras.metrics.Metric):\n",
    "  def __init__(self, num_classes, average='macro', name='f1_score', **kwargs):\n",
    "    super(F1Score, self).__init__(name=name, **kwargs)\n",
    "    self.num_classes = num_classes\n",
    "    self.average = average\n",
    "    self.true_positives = self.add_weight(name='tp', shape=(num_classes,), initializer='zeros', dtype=tf.float32)\n",
    "    self.false_positives = self.add_weight(name='fp', shape=(num_classes,), initializer='zeros', dtype=tf.float32)\n",
    "    self.false_negatives = self.add_weight(name='fn', shape=(num_classes,), initializer='zeros', dtype=tf.float32)\n",
    "\n",
    "  def update_state(self, y_true, y_pred, sample_weight=None):\n",
    "    y_pred = tf.argmax(y_pred, axis=-1)\n",
    "    y_true = tf.argmax(y_true, axis=-1)\n",
    "\n",
    "    for i in range(self.num_classes):\n",
    "      y_pred_i = tf.cast(y_pred == i, tf.float32)\n",
    "      y_true_i = tf.cast(y_true == i, tf.float32)\n",
    "\n",
    "      tp = tf.reduce_sum(y_true_i * y_pred_i)\n",
    "      fp = tf.reduce_sum(y_pred_i) - tp\n",
    "      fn = tf.reduce_sum(y_true_i) - tp\n",
    "\n",
    "      self.true_positives[i].assign(self.true_positives[i] + tp)\n",
    "      self.false_positives[i].assign(self.false_positives[i] + fp)\n",
    "      self.false_negatives[i].assign(self.false_negatives[i] + fn)\n",
    "\n",
    "  def result(self):\n",
    "    precision = self.true_positives / (self.true_positives + self.false_positives + K.epsilon())\n",
    "    recall = self.true_positives / (self.true_positives + self.false_negatives + K.epsilon())\n",
    "    f1 = 2 * (precision * recall) / (precision + recall + K.epsilon())\n",
    "\n",
    "    if self.average == 'macro':\n",
    "      return tf.reduce_mean(f1)\n",
    "    elif self.average == 'weighted':\n",
    "      weights = self.true_positives + self.false_negatives\n",
    "      return tf.reduce_sum(f1 * weights) / tf.reduce_sum(weights)\n",
    "    else:\n",
    "      raise ValueError(f'Unknown average type: {self.average}')\n",
    "\n",
    "  def reset_states(self):\n",
    "    for i in range(self.num_classes):\n",
    "      self.true_positives[i].assign(0)\n",
    "      self.false_positives[i].assign(0)\n",
    "      self.false_negatives[i].assign(0)"
   ]
  },
  {
   "cell_type": "markdown",
   "metadata": {},
   "source": [
    "## Resnet"
   ]
  },
  {
   "cell_type": "code",
   "execution_count": 10,
   "metadata": {},
   "outputs": [],
   "source": []
  },
  {
   "cell_type": "code",
   "execution_count": 12,
   "metadata": {},
   "outputs": [],
   "source": [
    "def build_resnet_nuestro_11_ago(input_shape, num_classes):\n",
    "\n",
    "\n",
    "    kernel_regula = 0.0014\n",
    "\n",
    "    dropouts_val = 0.25\n",
    "\n",
    "    base_model = ResNet50(weights='imagenet', include_top=False, input_shape=input_shape)\n",
    "    input_l = Input((224,224, 3))\n",
    "    i = base_model.input\n",
    "    x = base_model.layers[142].output\n",
    "\n",
    "\n",
    "    model_r = tf.keras.Model(i, x)\n",
    "    model_r.trainable = True\n",
    "\n",
    "\n",
    "    x = RandomFlip(\"horizontal\")(input_l)\n",
    "    x = RandomRotation(0.03)(x)\n",
    "\n",
    "    x = keras.applications.resnet50.preprocess_input(x)\n",
    "\n",
    "    out_r = model_r(x)\n",
    "\n",
    "  \n",
    "    x_1 = Conv2D(112, (3,3), activation = 'linear', padding='same' ,kernel_regularizer=l2(kernel_regula))(out_r)\n",
    "    x_1 = BatchNormalization()(x_1)\n",
    "    x_1 = Activation('relu')(x_1)\n",
    "\n",
    "    x_1 = SpatialDropout2D(dropouts_val)(x_1)\n",
    "\n",
    "\n",
    "    x_1 = Conv2D(112, (3, 3), activation='linear', padding='same' ,kernel_regularizer=l2(kernel_regula))(x_1)\n",
    "    x_1 = BatchNormalization()(x_1)\n",
    "\n",
    "    x_1_ident = Conv2D(112, (1, 1), activation = 'linear', padding='same' ,kernel_regularizer=l2(kernel_regula))(out_r)\n",
    "\n",
    "    x_1_ident = BatchNormalization()(x_1_ident)\n",
    "\n",
    "    x_1_ident = SpatialDropout2D(dropouts_val)(x_1_ident)\n",
    "\n",
    "    x_1 = add([x_1_ident, x_1])\n",
    "    x_1 = Activation('relu')(x_1)\n",
    "\n",
    "\n",
    "\n",
    "    x_1_out = Conv2D(56, (3, 3), activation='relu',kernel_regularizer=l2(kernel_regula))(x_1) ## salida bloque 1 \n",
    "\n",
    "    x_1_out = BatchNormalization()(x_1_out)\n",
    "    x_1_out = SpatialDropout2D(dropouts_val)(x_1_out)\n",
    "\n",
    "\n",
    "    x_2 = Conv2D(56, (3,3), activation = 'linear', padding='same',kernel_regularizer=l2(kernel_regula))(x_1_out)\n",
    "    x_2 = BatchNormalization()(x_2)\n",
    "\n",
    "    x_2 = SpatialDropout2D(dropouts_val)(x_2)\n",
    "    x_2 = Activation('relu')(x_2)\n",
    "\n",
    "    x_2 = Conv2D(56, (3, 3), activation='linear', padding='same' ,kernel_regularizer=l2(kernel_regula))(x_2)\n",
    "    x_2 = BatchNormalization()(x_2)\n",
    "\n",
    "    x_2_ident = Conv2D(56, (1, 1), activation = 'linear', padding='same',kernel_regularizer=l2(kernel_regula))(x_1_out)\n",
    "\n",
    "    x_2_ident = BatchNormalization()(x_2_ident)\n",
    "    x_2_ident = SpatialDropout2D(dropouts_val)(x_2_ident)\n",
    "\n",
    "    x_3_ident = Conv2D(56, (3, 3), activation= 'linear')(out_r)\n",
    "\n",
    "    x_3_ident = BatchNormalization()(x_3_ident)\n",
    "    x_3_ident = SpatialDropout2D(dropouts_val)(x_3_ident)\n",
    "\n",
    "\n",
    "\n",
    "\n",
    "\n",
    "    x_2 = add([x_2_ident, x_2, x_3_ident])\n",
    "    x_2 = Activation('relu')(x_2)\n",
    "\n",
    "    x_final = Conv2D(32 ,(3, 3), activation='relu' ,kernel_regularizer=l2(kernel_regula))(x_2)\n",
    "\n",
    "    x_final = BatchNormalization()(x_final)\n",
    "    x_final = SpatialDropout2D(dropouts_val)(x_final)\n",
    "\n",
    "    x_f = Flatten()(x_final)\n",
    "    x_f = Dense(120, activation='leaky_relu' ,kernel_regularizer=l2(0.02))(x_f)\n",
    "    x_f = Dense(13, activation='softmax' ,kernel_regularizer=l2(0.02))(x_f)\n",
    "\n",
    "    model_n = tf.keras.Model(input_l, x_f)\n",
    "\n",
    "    return model_n"
   ]
  },
  {
   "cell_type": "code",
   "execution_count": 55,
   "metadata": {},
   "outputs": [
    {
     "name": "stdout",
     "output_type": "stream",
     "text": [
      "Collecting graphviz\n",
      "  Downloading graphviz-0.20.3-py3-none-any.whl (47 kB)\n",
      "\u001b[K     |████████████████████████████████| 47 kB 774 kB/s eta 0:00:01\n",
      "\u001b[?25hInstalling collected packages: graphviz\n",
      "Successfully installed graphviz-0.20.3\n"
     ]
    }
   ],
   "source": [
    "!pip install graphviz "
   ]
  },
  {
   "cell_type": "code",
   "execution_count": 73,
   "metadata": {},
   "outputs": [
    {
     "name": "stdout",
     "output_type": "stream",
     "text": [
      "You must install pydot (`pip install pydot`) and install graphviz (see instructions at https://graphviz.gitlab.io/download/) for plot_model/model_to_dot to work.\n"
     ]
    }
   ],
   "source": [
    "\n",
    "\n",
    "\n",
    "input_shape = (224, 224, 3)\n",
    "num_classes = 13\n",
    "\n",
    "tf.keras.utils.plot_model(build_resnet_nuestro_11_ago(input_shape, num_classes),  \"modelo_show.png\"  ,show_shapes=True)\n",
    "\n",
    "\n"
   ]
  },
  {
   "cell_type": "markdown",
   "metadata": {},
   "source": [
    "### Resnet Compile"
   ]
  },
  {
   "cell_type": "code",
   "execution_count": 13,
   "metadata": {},
   "outputs": [],
   "source": [
    "with open('models/cnn_11_3ago_weights.pkl', 'rb') as f:\n",
    "    weights_11ago =  pickle.load(f)\n",
    "\n"
   ]
  },
  {
   "cell_type": "code",
   "execution_count": 14,
   "metadata": {},
   "outputs": [],
   "source": [
    "# Limpiar sesión previa\n",
    "tf.keras.backend.clear_session()\n",
    "\n",
    "input_shape = (224, 224, 3)\n",
    "num_classes = 13\n",
    "\n",
    "model = build_resnet_nuestro_11_ago(input_shape, num_classes)\n",
    "model.set_weights (weights_11ago)\n",
    "\n",
    "model.compile(optimizer=tf.keras.optimizers.Adam(learning_rate=1e-5),\n",
    "              loss='categorical_crossentropy',\n",
    "              metrics=['accuracy', F1Score(13,average='weighted')])\n",
    "\n",
    "# Callbacks\n",
    "early_stopping = EarlyStopping(monitor='val_loss', patience=12, restore_best_weights=True)\n",
    "reduce_lr = ReduceLROnPlateau(monitor='val_loss', factor=0.2, patience=5, min_lr=1e-7)\n"
   ]
  },
  {
   "cell_type": "code",
   "execution_count": 54,
   "metadata": {},
   "outputs": [
    {
     "data": {
      "text/plain": [
       "False"
      ]
     },
     "execution_count": 54,
     "metadata": {},
     "output_type": "execute_result"
    }
   ],
   "source": [
    "model.layers[5].trainable"
   ]
  },
  {
   "cell_type": "code",
   "execution_count": 96,
   "metadata": {},
   "outputs": [
    {
     "name": "stdout",
     "output_type": "stream",
     "text": [
      "Model: \"model_1\"\n",
      "__________________________________________________________________________________________________\n",
      " Layer (type)                   Output Shape         Param #     Connected to                     \n",
      "==================================================================================================\n",
      " input_2 (InputLayer)           [(None, 224, 224, 3  0           []                               \n",
      "                                )]                                                                \n",
      "                                                                                                  \n",
      " random_flip (RandomFlip)       (None, 224, 224, 3)  0           ['input_2[0][0]']                \n",
      "                                                                                                  \n",
      " random_rotation (RandomRotatio  (None, 224, 224, 3)  0          ['random_flip[0][0]']            \n",
      " n)                                                                                               \n",
      "                                                                                                  \n",
      " tf.__operators__.getitem (Slic  (None, 224, 224, 3)  0          ['random_rotation[0][0]']        \n",
      " ingOpLambda)                                                                                     \n",
      "                                                                                                  \n",
      " tf.nn.bias_add (TFOpLambda)    (None, 224, 224, 3)  0           ['tf.__operators__.getitem[0][0]'\n",
      "                                                                 ]                                \n",
      "                                                                                                  \n",
      " model (Functional)             (None, 14, 14, 1024  8589184     ['tf.nn.bias_add[0][0]']         \n",
      "                                )                                                                 \n",
      "                                                                                                  \n",
      " conv2d (Conv2D)                (None, 14, 14, 112)  1032304     ['model[0][0]']                  \n",
      "                                                                                                  \n",
      " batch_normalization (BatchNorm  (None, 14, 14, 112)  448        ['conv2d[0][0]']                 \n",
      " alization)                                                                                       \n",
      "                                                                                                  \n",
      " activation (Activation)        (None, 14, 14, 112)  0           ['batch_normalization[0][0]']    \n",
      "                                                                                                  \n",
      " conv2d_2 (Conv2D)              (None, 14, 14, 112)  114800      ['model[0][0]']                  \n",
      "                                                                                                  \n",
      " spatial_dropout2d (SpatialDrop  (None, 14, 14, 112)  0          ['activation[0][0]']             \n",
      " out2D)                                                                                           \n",
      "                                                                                                  \n",
      " batch_normalization_2 (BatchNo  (None, 14, 14, 112)  448        ['conv2d_2[0][0]']               \n",
      " rmalization)                                                                                     \n",
      "                                                                                                  \n",
      " conv2d_1 (Conv2D)              (None, 14, 14, 112)  113008      ['spatial_dropout2d[0][0]']      \n",
      "                                                                                                  \n",
      " spatial_dropout2d_1 (SpatialDr  (None, 14, 14, 112)  0          ['batch_normalization_2[0][0]']  \n",
      " opout2D)                                                                                         \n",
      "                                                                                                  \n",
      " batch_normalization_1 (BatchNo  (None, 14, 14, 112)  448        ['conv2d_1[0][0]']               \n",
      " rmalization)                                                                                     \n",
      "                                                                                                  \n",
      " add (Add)                      (None, 14, 14, 112)  0           ['spatial_dropout2d_1[0][0]',    \n",
      "                                                                  'batch_normalization_1[0][0]']  \n",
      "                                                                                                  \n",
      " activation_1 (Activation)      (None, 14, 14, 112)  0           ['add[0][0]']                    \n",
      "                                                                                                  \n",
      " conv2d_3 (Conv2D)              (None, 12, 12, 56)   56504       ['activation_1[0][0]']           \n",
      "                                                                                                  \n",
      " batch_normalization_3 (BatchNo  (None, 12, 12, 56)  224         ['conv2d_3[0][0]']               \n",
      " rmalization)                                                                                     \n",
      "                                                                                                  \n",
      " spatial_dropout2d_2 (SpatialDr  (None, 12, 12, 56)  0           ['batch_normalization_3[0][0]']  \n",
      " opout2D)                                                                                         \n",
      "                                                                                                  \n",
      " conv2d_4 (Conv2D)              (None, 12, 12, 56)   28280       ['spatial_dropout2d_2[0][0]']    \n",
      "                                                                                                  \n",
      " batch_normalization_4 (BatchNo  (None, 12, 12, 56)  224         ['conv2d_4[0][0]']               \n",
      " rmalization)                                                                                     \n",
      "                                                                                                  \n",
      " spatial_dropout2d_3 (SpatialDr  (None, 12, 12, 56)  0           ['batch_normalization_4[0][0]']  \n",
      " opout2D)                                                                                         \n",
      "                                                                                                  \n",
      " conv2d_6 (Conv2D)              (None, 12, 12, 56)   3192        ['spatial_dropout2d_2[0][0]']    \n",
      "                                                                                                  \n",
      " activation_2 (Activation)      (None, 12, 12, 56)   0           ['spatial_dropout2d_3[0][0]']    \n",
      "                                                                                                  \n",
      " conv2d_7 (Conv2D)              (None, 12, 12, 56)   516152      ['model[0][0]']                  \n",
      "                                                                                                  \n",
      " batch_normalization_6 (BatchNo  (None, 12, 12, 56)  224         ['conv2d_6[0][0]']               \n",
      " rmalization)                                                                                     \n",
      "                                                                                                  \n",
      " conv2d_5 (Conv2D)              (None, 12, 12, 56)   28280       ['activation_2[0][0]']           \n",
      "                                                                                                  \n",
      " batch_normalization_7 (BatchNo  (None, 12, 12, 56)  224         ['conv2d_7[0][0]']               \n",
      " rmalization)                                                                                     \n",
      "                                                                                                  \n",
      " spatial_dropout2d_4 (SpatialDr  (None, 12, 12, 56)  0           ['batch_normalization_6[0][0]']  \n",
      " opout2D)                                                                                         \n",
      "                                                                                                  \n",
      " batch_normalization_5 (BatchNo  (None, 12, 12, 56)  224         ['conv2d_5[0][0]']               \n",
      " rmalization)                                                                                     \n",
      "                                                                                                  \n",
      " spatial_dropout2d_5 (SpatialDr  (None, 12, 12, 56)  0           ['batch_normalization_7[0][0]']  \n",
      " opout2D)                                                                                         \n",
      "                                                                                                  \n",
      " add_1 (Add)                    (None, 12, 12, 56)   0           ['spatial_dropout2d_4[0][0]',    \n",
      "                                                                  'batch_normalization_5[0][0]',  \n",
      "                                                                  'spatial_dropout2d_5[0][0]']    \n",
      "                                                                                                  \n",
      " activation_3 (Activation)      (None, 12, 12, 56)   0           ['add_1[0][0]']                  \n",
      "                                                                                                  \n",
      " conv2d_8 (Conv2D)              (None, 10, 10, 32)   16160       ['activation_3[0][0]']           \n",
      "                                                                                                  \n",
      " batch_normalization_8 (BatchNo  (None, 10, 10, 32)  128         ['conv2d_8[0][0]']               \n",
      " rmalization)                                                                                     \n",
      "                                                                                                  \n",
      " spatial_dropout2d_6 (SpatialDr  (None, 10, 10, 32)  0           ['batch_normalization_8[0][0]']  \n",
      " opout2D)                                                                                         \n",
      "                                                                                                  \n",
      " flatten (Flatten)              (None, 3200)         0           ['spatial_dropout2d_6[0][0]']    \n",
      "                                                                                                  \n",
      " dense (Dense)                  (None, 120)          384120      ['flatten[0][0]']                \n",
      "                                                                                                  \n",
      " dense_1 (Dense)                (None, 13)           1573        ['dense[0][0]']                  \n",
      "                                                                                                  \n",
      "==================================================================================================\n",
      "Total params: 10,886,149\n",
      "Trainable params: 2,295,669\n",
      "Non-trainable params: 8,590,480\n",
      "__________________________________________________________________________________________________\n"
     ]
    }
   ],
   "source": [
    "model.summary()"
   ]
  },
  {
   "cell_type": "markdown",
   "metadata": {},
   "source": [
    "### Fit Resnet"
   ]
  },
  {
   "cell_type": "code",
   "execution_count": 15,
   "metadata": {},
   "outputs": [
    {
     "name": "stdout",
     "output_type": "stream",
     "text": [
      "Epoch 1/1000\n"
     ]
    },
    {
     "name": "stderr",
     "output_type": "stream",
     "text": [
      "2024-08-12 16:49:29.164968: I tensorflow/stream_executor/cuda/cuda_dnn.cc:384] Loaded cuDNN version 8100\n",
      "2024-08-12 16:49:32.201463: I tensorflow/stream_executor/cuda/cuda_blas.cc:1786] TensorFloat-32 will be used for the matrix multiplication. This will only be logged once.\n"
     ]
    },
    {
     "name": "stdout",
     "output_type": "stream",
     "text": [
      "1095/1095 [==============================] - ETA: 0s - loss: 4.2450 - accuracy: 0.2633 - f1_score: 0.2825"
     ]
    },
    {
     "name": "stderr",
     "output_type": "stream",
     "text": [
      "/usr/local/lib/python3.8/dist-packages/keras/engine/training.py:2086: UserWarning: Metric F1Score implements a `reset_states()` method; rename it to `reset_state()` (without the final \"s\"). The name `reset_states()` has been deprecated to improve API consistency.\n",
      "  m.reset_state()\n"
     ]
    },
    {
     "name": "stdout",
     "output_type": "stream",
     "text": [
      "1095/1095 [==============================] - 363s 323ms/step - loss: 4.2450 - accuracy: 0.2633 - f1_score: 0.2825 - val_loss: 3.8455 - val_accuracy: 0.3210 - val_f1_score: 0.3252\n",
      "Epoch 2/1000\n",
      "1095/1095 [==============================] - 921s 841ms/step - loss: 3.5361 - accuracy: 0.4015 - f1_score: 0.4208 - val_loss: 3.4319 - val_accuracy: 0.4101 - val_f1_score: 0.4212\n",
      "Epoch 3/1000\n",
      "1095/1095 [==============================] - 5856s 5s/step - loss: 3.2357 - accuracy: 0.4691 - f1_score: 0.4872 - val_loss: 3.3744 - val_accuracy: 0.4076 - val_f1_score: 0.4103\n",
      "Epoch 4/1000\n",
      "1095/1095 [==============================] - 1342s 1s/step - loss: 2.9809 - accuracy: 0.5244 - f1_score: 0.5403 - val_loss: 3.3871 - val_accuracy: 0.3762 - val_f1_score: 0.3897\n",
      "Epoch 5/1000\n",
      " 832/1095 [=====================>........] - ETA: 3:55 - loss: 2.8343 - accuracy: 0.5531 - f1_score: 0.5674"
     ]
    },
    {
     "ename": "KeyboardInterrupt",
     "evalue": "",
     "output_type": "error",
     "traceback": [
      "\u001b[0;31m---------------------------------------------------------------------------\u001b[0m",
      "\u001b[0;31mKeyboardInterrupt\u001b[0m                         Traceback (most recent call last)",
      "Cell \u001b[0;32mIn[15], line 1\u001b[0m\n\u001b[0;32m----> 1\u001b[0m history \u001b[38;5;241m=\u001b[39m \u001b[43mmodel\u001b[49m\u001b[38;5;241;43m.\u001b[39;49m\u001b[43mfit\u001b[49m\u001b[43m(\u001b[49m\n\u001b[1;32m      2\u001b[0m \u001b[43m     \u001b[49m\u001b[43mtrain_ds\u001b[49m\u001b[43m,\u001b[49m\n\u001b[1;32m      3\u001b[0m \u001b[43m     \u001b[49m\u001b[43mepochs\u001b[49m\u001b[38;5;241;43m=\u001b[39;49m\u001b[38;5;241;43m1000\u001b[39;49m\u001b[43m,\u001b[49m\n\u001b[1;32m      4\u001b[0m \u001b[43m     \u001b[49m\u001b[43mvalidation_data\u001b[49m\u001b[38;5;241;43m=\u001b[39;49m\u001b[43mval_ds\u001b[49m\u001b[43m,\u001b[49m\n\u001b[1;32m      5\u001b[0m \u001b[43m     \u001b[49m\u001b[43mclass_weight\u001b[49m\u001b[38;5;241;43m=\u001b[39;49m\u001b[43mclass_weight_dict\u001b[49m\u001b[43m,\u001b[49m\n\u001b[1;32m      6\u001b[0m \u001b[43m     \u001b[49m\u001b[43mcallbacks\u001b[49m\u001b[38;5;241;43m=\u001b[39;49m\u001b[43m[\u001b[49m\u001b[43mearly_stopping\u001b[49m\u001b[43m]\u001b[49m\n\u001b[1;32m      7\u001b[0m \u001b[43m)\u001b[49m\n",
      "File \u001b[0;32m/usr/local/lib/python3.8/dist-packages/keras/utils/traceback_utils.py:64\u001b[0m, in \u001b[0;36mfilter_traceback.<locals>.error_handler\u001b[0;34m(*args, **kwargs)\u001b[0m\n\u001b[1;32m     62\u001b[0m filtered_tb \u001b[38;5;241m=\u001b[39m \u001b[38;5;28;01mNone\u001b[39;00m\n\u001b[1;32m     63\u001b[0m \u001b[38;5;28;01mtry\u001b[39;00m:\n\u001b[0;32m---> 64\u001b[0m   \u001b[38;5;28;01mreturn\u001b[39;00m \u001b[43mfn\u001b[49m\u001b[43m(\u001b[49m\u001b[38;5;241;43m*\u001b[39;49m\u001b[43margs\u001b[49m\u001b[43m,\u001b[49m\u001b[43m \u001b[49m\u001b[38;5;241;43m*\u001b[39;49m\u001b[38;5;241;43m*\u001b[39;49m\u001b[43mkwargs\u001b[49m\u001b[43m)\u001b[49m\n\u001b[1;32m     65\u001b[0m \u001b[38;5;28;01mexcept\u001b[39;00m \u001b[38;5;167;01mException\u001b[39;00m \u001b[38;5;28;01mas\u001b[39;00m e:  \u001b[38;5;66;03m# pylint: disable=broad-except\u001b[39;00m\n\u001b[1;32m     66\u001b[0m   filtered_tb \u001b[38;5;241m=\u001b[39m _process_traceback_frames(e\u001b[38;5;241m.\u001b[39m__traceback__)\n",
      "File \u001b[0;32m/usr/local/lib/python3.8/dist-packages/keras/engine/training.py:1414\u001b[0m, in \u001b[0;36mModel.fit\u001b[0;34m(self, x, y, batch_size, epochs, verbose, callbacks, validation_split, validation_data, shuffle, class_weight, sample_weight, initial_epoch, steps_per_epoch, validation_steps, validation_batch_size, validation_freq, max_queue_size, workers, use_multiprocessing)\u001b[0m\n\u001b[1;32m   1412\u001b[0m logs \u001b[38;5;241m=\u001b[39m tmp_logs  \u001b[38;5;66;03m# No error, now safe to assign to logs.\u001b[39;00m\n\u001b[1;32m   1413\u001b[0m end_step \u001b[38;5;241m=\u001b[39m step \u001b[38;5;241m+\u001b[39m data_handler\u001b[38;5;241m.\u001b[39mstep_increment\n\u001b[0;32m-> 1414\u001b[0m \u001b[43mcallbacks\u001b[49m\u001b[38;5;241;43m.\u001b[39;49m\u001b[43mon_train_batch_end\u001b[49m\u001b[43m(\u001b[49m\u001b[43mend_step\u001b[49m\u001b[43m,\u001b[49m\u001b[43m \u001b[49m\u001b[43mlogs\u001b[49m\u001b[43m)\u001b[49m\n\u001b[1;32m   1415\u001b[0m \u001b[38;5;28;01mif\u001b[39;00m \u001b[38;5;28mself\u001b[39m\u001b[38;5;241m.\u001b[39mstop_training:\n\u001b[1;32m   1416\u001b[0m   \u001b[38;5;28;01mbreak\u001b[39;00m\n",
      "File \u001b[0;32m/usr/local/lib/python3.8/dist-packages/keras/callbacks.py:438\u001b[0m, in \u001b[0;36mCallbackList.on_train_batch_end\u001b[0;34m(self, batch, logs)\u001b[0m\n\u001b[1;32m    431\u001b[0m \u001b[38;5;250m\u001b[39m\u001b[38;5;124;03m\"\"\"Calls the `on_train_batch_end` methods of its callbacks.\u001b[39;00m\n\u001b[1;32m    432\u001b[0m \n\u001b[1;32m    433\u001b[0m \u001b[38;5;124;03mArgs:\u001b[39;00m\n\u001b[1;32m    434\u001b[0m \u001b[38;5;124;03m    batch: Integer, index of batch within the current epoch.\u001b[39;00m\n\u001b[1;32m    435\u001b[0m \u001b[38;5;124;03m    logs: Dict. Aggregated metric results up until this batch.\u001b[39;00m\n\u001b[1;32m    436\u001b[0m \u001b[38;5;124;03m\"\"\"\u001b[39;00m\n\u001b[1;32m    437\u001b[0m \u001b[38;5;28;01mif\u001b[39;00m \u001b[38;5;28mself\u001b[39m\u001b[38;5;241m.\u001b[39m_should_call_train_batch_hooks:\n\u001b[0;32m--> 438\u001b[0m   \u001b[38;5;28;43mself\u001b[39;49m\u001b[38;5;241;43m.\u001b[39;49m\u001b[43m_call_batch_hook\u001b[49m\u001b[43m(\u001b[49m\u001b[43mModeKeys\u001b[49m\u001b[38;5;241;43m.\u001b[39;49m\u001b[43mTRAIN\u001b[49m\u001b[43m,\u001b[49m\u001b[43m \u001b[49m\u001b[38;5;124;43m'\u001b[39;49m\u001b[38;5;124;43mend\u001b[39;49m\u001b[38;5;124;43m'\u001b[39;49m\u001b[43m,\u001b[49m\u001b[43m \u001b[49m\u001b[43mbatch\u001b[49m\u001b[43m,\u001b[49m\u001b[43m \u001b[49m\u001b[43mlogs\u001b[49m\u001b[38;5;241;43m=\u001b[39;49m\u001b[43mlogs\u001b[49m\u001b[43m)\u001b[49m\n",
      "File \u001b[0;32m/usr/local/lib/python3.8/dist-packages/keras/callbacks.py:297\u001b[0m, in \u001b[0;36mCallbackList._call_batch_hook\u001b[0;34m(self, mode, hook, batch, logs)\u001b[0m\n\u001b[1;32m    295\u001b[0m   \u001b[38;5;28mself\u001b[39m\u001b[38;5;241m.\u001b[39m_call_batch_begin_hook(mode, batch, logs)\n\u001b[1;32m    296\u001b[0m \u001b[38;5;28;01melif\u001b[39;00m hook \u001b[38;5;241m==\u001b[39m \u001b[38;5;124m'\u001b[39m\u001b[38;5;124mend\u001b[39m\u001b[38;5;124m'\u001b[39m:\n\u001b[0;32m--> 297\u001b[0m   \u001b[38;5;28;43mself\u001b[39;49m\u001b[38;5;241;43m.\u001b[39;49m\u001b[43m_call_batch_end_hook\u001b[49m\u001b[43m(\u001b[49m\u001b[43mmode\u001b[49m\u001b[43m,\u001b[49m\u001b[43m \u001b[49m\u001b[43mbatch\u001b[49m\u001b[43m,\u001b[49m\u001b[43m \u001b[49m\u001b[43mlogs\u001b[49m\u001b[43m)\u001b[49m\n\u001b[1;32m    298\u001b[0m \u001b[38;5;28;01melse\u001b[39;00m:\n\u001b[1;32m    299\u001b[0m   \u001b[38;5;28;01mraise\u001b[39;00m \u001b[38;5;167;01mValueError\u001b[39;00m(\n\u001b[1;32m    300\u001b[0m       \u001b[38;5;124mf\u001b[39m\u001b[38;5;124m'\u001b[39m\u001b[38;5;124mUnrecognized hook: \u001b[39m\u001b[38;5;132;01m{\u001b[39;00mhook\u001b[38;5;132;01m}\u001b[39;00m\u001b[38;5;124m. Expected values are [\u001b[39m\u001b[38;5;124m\"\u001b[39m\u001b[38;5;124mbegin\u001b[39m\u001b[38;5;124m\"\u001b[39m\u001b[38;5;124m, \u001b[39m\u001b[38;5;124m\"\u001b[39m\u001b[38;5;124mend\u001b[39m\u001b[38;5;124m\"\u001b[39m\u001b[38;5;124m]\u001b[39m\u001b[38;5;124m'\u001b[39m)\n",
      "File \u001b[0;32m/usr/local/lib/python3.8/dist-packages/keras/callbacks.py:318\u001b[0m, in \u001b[0;36mCallbackList._call_batch_end_hook\u001b[0;34m(self, mode, batch, logs)\u001b[0m\n\u001b[1;32m    315\u001b[0m   batch_time \u001b[38;5;241m=\u001b[39m time\u001b[38;5;241m.\u001b[39mtime() \u001b[38;5;241m-\u001b[39m \u001b[38;5;28mself\u001b[39m\u001b[38;5;241m.\u001b[39m_batch_start_time\n\u001b[1;32m    316\u001b[0m   \u001b[38;5;28mself\u001b[39m\u001b[38;5;241m.\u001b[39m_batch_times\u001b[38;5;241m.\u001b[39mappend(batch_time)\n\u001b[0;32m--> 318\u001b[0m \u001b[38;5;28;43mself\u001b[39;49m\u001b[38;5;241;43m.\u001b[39;49m\u001b[43m_call_batch_hook_helper\u001b[49m\u001b[43m(\u001b[49m\u001b[43mhook_name\u001b[49m\u001b[43m,\u001b[49m\u001b[43m \u001b[49m\u001b[43mbatch\u001b[49m\u001b[43m,\u001b[49m\u001b[43m \u001b[49m\u001b[43mlogs\u001b[49m\u001b[43m)\u001b[49m\n\u001b[1;32m    320\u001b[0m \u001b[38;5;28;01mif\u001b[39;00m \u001b[38;5;28mlen\u001b[39m(\u001b[38;5;28mself\u001b[39m\u001b[38;5;241m.\u001b[39m_batch_times) \u001b[38;5;241m>\u001b[39m\u001b[38;5;241m=\u001b[39m \u001b[38;5;28mself\u001b[39m\u001b[38;5;241m.\u001b[39m_num_batches_for_timing_check:\n\u001b[1;32m    321\u001b[0m   end_hook_name \u001b[38;5;241m=\u001b[39m hook_name\n",
      "File \u001b[0;32m/usr/local/lib/python3.8/dist-packages/keras/callbacks.py:356\u001b[0m, in \u001b[0;36mCallbackList._call_batch_hook_helper\u001b[0;34m(self, hook_name, batch, logs)\u001b[0m\n\u001b[1;32m    354\u001b[0m \u001b[38;5;28;01mfor\u001b[39;00m callback \u001b[38;5;129;01min\u001b[39;00m \u001b[38;5;28mself\u001b[39m\u001b[38;5;241m.\u001b[39mcallbacks:\n\u001b[1;32m    355\u001b[0m   hook \u001b[38;5;241m=\u001b[39m \u001b[38;5;28mgetattr\u001b[39m(callback, hook_name)\n\u001b[0;32m--> 356\u001b[0m   \u001b[43mhook\u001b[49m\u001b[43m(\u001b[49m\u001b[43mbatch\u001b[49m\u001b[43m,\u001b[49m\u001b[43m \u001b[49m\u001b[43mlogs\u001b[49m\u001b[43m)\u001b[49m\n\u001b[1;32m    358\u001b[0m \u001b[38;5;28;01mif\u001b[39;00m \u001b[38;5;28mself\u001b[39m\u001b[38;5;241m.\u001b[39m_check_timing:\n\u001b[1;32m    359\u001b[0m   \u001b[38;5;28;01mif\u001b[39;00m hook_name \u001b[38;5;129;01mnot\u001b[39;00m \u001b[38;5;129;01min\u001b[39;00m \u001b[38;5;28mself\u001b[39m\u001b[38;5;241m.\u001b[39m_hook_times:\n",
      "File \u001b[0;32m/usr/local/lib/python3.8/dist-packages/keras/callbacks.py:1034\u001b[0m, in \u001b[0;36mProgbarLogger.on_train_batch_end\u001b[0;34m(self, batch, logs)\u001b[0m\n\u001b[1;32m   1033\u001b[0m \u001b[38;5;28;01mdef\u001b[39;00m \u001b[38;5;21mon_train_batch_end\u001b[39m(\u001b[38;5;28mself\u001b[39m, batch, logs\u001b[38;5;241m=\u001b[39m\u001b[38;5;28;01mNone\u001b[39;00m):\n\u001b[0;32m-> 1034\u001b[0m   \u001b[38;5;28;43mself\u001b[39;49m\u001b[38;5;241;43m.\u001b[39;49m\u001b[43m_batch_update_progbar\u001b[49m\u001b[43m(\u001b[49m\u001b[43mbatch\u001b[49m\u001b[43m,\u001b[49m\u001b[43m \u001b[49m\u001b[43mlogs\u001b[49m\u001b[43m)\u001b[49m\n",
      "File \u001b[0;32m/usr/local/lib/python3.8/dist-packages/keras/callbacks.py:1106\u001b[0m, in \u001b[0;36mProgbarLogger._batch_update_progbar\u001b[0;34m(self, batch, logs)\u001b[0m\n\u001b[1;32m   1102\u001b[0m   \u001b[38;5;28mself\u001b[39m\u001b[38;5;241m.\u001b[39mseen \u001b[38;5;241m+\u001b[39m\u001b[38;5;241m=\u001b[39m add_seen\n\u001b[1;32m   1104\u001b[0m \u001b[38;5;28;01mif\u001b[39;00m \u001b[38;5;28mself\u001b[39m\u001b[38;5;241m.\u001b[39mverbose \u001b[38;5;241m==\u001b[39m \u001b[38;5;241m1\u001b[39m:\n\u001b[1;32m   1105\u001b[0m   \u001b[38;5;66;03m# Only block async when verbose = 1.\u001b[39;00m\n\u001b[0;32m-> 1106\u001b[0m   logs \u001b[38;5;241m=\u001b[39m \u001b[43mtf_utils\u001b[49m\u001b[38;5;241;43m.\u001b[39;49m\u001b[43msync_to_numpy_or_python_type\u001b[49m\u001b[43m(\u001b[49m\u001b[43mlogs\u001b[49m\u001b[43m)\u001b[49m\n\u001b[1;32m   1107\u001b[0m   \u001b[38;5;28mself\u001b[39m\u001b[38;5;241m.\u001b[39mprogbar\u001b[38;5;241m.\u001b[39mupdate(\u001b[38;5;28mself\u001b[39m\u001b[38;5;241m.\u001b[39mseen, \u001b[38;5;28mlist\u001b[39m(logs\u001b[38;5;241m.\u001b[39mitems()), finalize\u001b[38;5;241m=\u001b[39m\u001b[38;5;28;01mFalse\u001b[39;00m)\n",
      "File \u001b[0;32m/usr/local/lib/python3.8/dist-packages/keras/utils/tf_utils.py:607\u001b[0m, in \u001b[0;36msync_to_numpy_or_python_type\u001b[0;34m(tensors)\u001b[0m\n\u001b[1;32m    604\u001b[0m     \u001b[38;5;28;01mreturn\u001b[39;00m t\n\u001b[1;32m    605\u001b[0m   \u001b[38;5;28;01mreturn\u001b[39;00m t\u001b[38;5;241m.\u001b[39mitem() \u001b[38;5;28;01mif\u001b[39;00m np\u001b[38;5;241m.\u001b[39mndim(t) \u001b[38;5;241m==\u001b[39m \u001b[38;5;241m0\u001b[39m \u001b[38;5;28;01melse\u001b[39;00m t\n\u001b[0;32m--> 607\u001b[0m \u001b[38;5;28;01mreturn\u001b[39;00m \u001b[43mtf\u001b[49m\u001b[38;5;241;43m.\u001b[39;49m\u001b[43mnest\u001b[49m\u001b[38;5;241;43m.\u001b[39;49m\u001b[43mmap_structure\u001b[49m\u001b[43m(\u001b[49m\u001b[43m_to_single_numpy_or_python_type\u001b[49m\u001b[43m,\u001b[49m\u001b[43m \u001b[49m\u001b[43mtensors\u001b[49m\u001b[43m)\u001b[49m\n",
      "File \u001b[0;32m/usr/local/lib/python3.8/dist-packages/tensorflow/python/util/nest.py:916\u001b[0m, in \u001b[0;36mmap_structure\u001b[0;34m(func, *structure, **kwargs)\u001b[0m\n\u001b[1;32m    912\u001b[0m flat_structure \u001b[38;5;241m=\u001b[39m (flatten(s, expand_composites) \u001b[38;5;28;01mfor\u001b[39;00m s \u001b[38;5;129;01min\u001b[39;00m structure)\n\u001b[1;32m    913\u001b[0m entries \u001b[38;5;241m=\u001b[39m \u001b[38;5;28mzip\u001b[39m(\u001b[38;5;241m*\u001b[39mflat_structure)\n\u001b[1;32m    915\u001b[0m \u001b[38;5;28;01mreturn\u001b[39;00m pack_sequence_as(\n\u001b[0;32m--> 916\u001b[0m     structure[\u001b[38;5;241m0\u001b[39m], [func(\u001b[38;5;241m*\u001b[39mx) \u001b[38;5;28;01mfor\u001b[39;00m x \u001b[38;5;129;01min\u001b[39;00m entries],\n\u001b[1;32m    917\u001b[0m     expand_composites\u001b[38;5;241m=\u001b[39mexpand_composites)\n",
      "File \u001b[0;32m/usr/local/lib/python3.8/dist-packages/tensorflow/python/util/nest.py:916\u001b[0m, in \u001b[0;36m<listcomp>\u001b[0;34m(.0)\u001b[0m\n\u001b[1;32m    912\u001b[0m flat_structure \u001b[38;5;241m=\u001b[39m (flatten(s, expand_composites) \u001b[38;5;28;01mfor\u001b[39;00m s \u001b[38;5;129;01min\u001b[39;00m structure)\n\u001b[1;32m    913\u001b[0m entries \u001b[38;5;241m=\u001b[39m \u001b[38;5;28mzip\u001b[39m(\u001b[38;5;241m*\u001b[39mflat_structure)\n\u001b[1;32m    915\u001b[0m \u001b[38;5;28;01mreturn\u001b[39;00m pack_sequence_as(\n\u001b[0;32m--> 916\u001b[0m     structure[\u001b[38;5;241m0\u001b[39m], [\u001b[43mfunc\u001b[49m\u001b[43m(\u001b[49m\u001b[38;5;241;43m*\u001b[39;49m\u001b[43mx\u001b[49m\u001b[43m)\u001b[49m \u001b[38;5;28;01mfor\u001b[39;00m x \u001b[38;5;129;01min\u001b[39;00m entries],\n\u001b[1;32m    917\u001b[0m     expand_composites\u001b[38;5;241m=\u001b[39mexpand_composites)\n",
      "File \u001b[0;32m/usr/local/lib/python3.8/dist-packages/keras/utils/tf_utils.py:601\u001b[0m, in \u001b[0;36msync_to_numpy_or_python_type.<locals>._to_single_numpy_or_python_type\u001b[0;34m(t)\u001b[0m\n\u001b[1;32m    598\u001b[0m \u001b[38;5;28;01mdef\u001b[39;00m \u001b[38;5;21m_to_single_numpy_or_python_type\u001b[39m(t):\n\u001b[1;32m    599\u001b[0m   \u001b[38;5;66;03m# Don't turn ragged or sparse tensors to NumPy.\u001b[39;00m\n\u001b[1;32m    600\u001b[0m   \u001b[38;5;28;01mif\u001b[39;00m \u001b[38;5;28misinstance\u001b[39m(t, tf\u001b[38;5;241m.\u001b[39mTensor):\n\u001b[0;32m--> 601\u001b[0m     t \u001b[38;5;241m=\u001b[39m \u001b[43mt\u001b[49m\u001b[38;5;241;43m.\u001b[39;49m\u001b[43mnumpy\u001b[49m\u001b[43m(\u001b[49m\u001b[43m)\u001b[49m\n\u001b[1;32m    602\u001b[0m   \u001b[38;5;66;03m# Strings, ragged and sparse tensors don't have .item(). Return them as-is.\u001b[39;00m\n\u001b[1;32m    603\u001b[0m   \u001b[38;5;28;01mif\u001b[39;00m \u001b[38;5;129;01mnot\u001b[39;00m \u001b[38;5;28misinstance\u001b[39m(t, (np\u001b[38;5;241m.\u001b[39mndarray, np\u001b[38;5;241m.\u001b[39mgeneric)):\n",
      "File \u001b[0;32m/usr/local/lib/python3.8/dist-packages/tensorflow/python/framework/ops.py:1159\u001b[0m, in \u001b[0;36m_EagerTensorBase.numpy\u001b[0;34m(self)\u001b[0m\n\u001b[1;32m   1136\u001b[0m \u001b[38;5;250m\u001b[39m\u001b[38;5;124;03m\"\"\"Copy of the contents of this Tensor into a NumPy array or scalar.\u001b[39;00m\n\u001b[1;32m   1137\u001b[0m \n\u001b[1;32m   1138\u001b[0m \u001b[38;5;124;03mUnlike NumPy arrays, Tensors are immutable, so this method has to copy\u001b[39;00m\n\u001b[0;32m   (...)\u001b[0m\n\u001b[1;32m   1156\u001b[0m \u001b[38;5;124;03m    NumPy dtype.\u001b[39;00m\n\u001b[1;32m   1157\u001b[0m \u001b[38;5;124;03m\"\"\"\u001b[39;00m\n\u001b[1;32m   1158\u001b[0m \u001b[38;5;66;03m# TODO(slebedev): Consider avoiding a copy for non-CPU or remote tensors.\u001b[39;00m\n\u001b[0;32m-> 1159\u001b[0m maybe_arr \u001b[38;5;241m=\u001b[39m \u001b[38;5;28;43mself\u001b[39;49m\u001b[38;5;241;43m.\u001b[39;49m\u001b[43m_numpy\u001b[49m\u001b[43m(\u001b[49m\u001b[43m)\u001b[49m  \u001b[38;5;66;03m# pylint: disable=protected-access\u001b[39;00m\n\u001b[1;32m   1160\u001b[0m \u001b[38;5;28;01mreturn\u001b[39;00m maybe_arr\u001b[38;5;241m.\u001b[39mcopy() \u001b[38;5;28;01mif\u001b[39;00m \u001b[38;5;28misinstance\u001b[39m(maybe_arr, np\u001b[38;5;241m.\u001b[39mndarray) \u001b[38;5;28;01melse\u001b[39;00m maybe_arr\n",
      "File \u001b[0;32m/usr/local/lib/python3.8/dist-packages/tensorflow/python/framework/ops.py:1125\u001b[0m, in \u001b[0;36m_EagerTensorBase._numpy\u001b[0;34m(self)\u001b[0m\n\u001b[1;32m   1123\u001b[0m \u001b[38;5;28;01mdef\u001b[39;00m \u001b[38;5;21m_numpy\u001b[39m(\u001b[38;5;28mself\u001b[39m):\n\u001b[1;32m   1124\u001b[0m   \u001b[38;5;28;01mtry\u001b[39;00m:\n\u001b[0;32m-> 1125\u001b[0m     \u001b[38;5;28;01mreturn\u001b[39;00m \u001b[38;5;28;43mself\u001b[39;49m\u001b[38;5;241;43m.\u001b[39;49m\u001b[43m_numpy_internal\u001b[49m\u001b[43m(\u001b[49m\u001b[43m)\u001b[49m\n\u001b[1;32m   1126\u001b[0m   \u001b[38;5;28;01mexcept\u001b[39;00m core\u001b[38;5;241m.\u001b[39m_NotOkStatusException \u001b[38;5;28;01mas\u001b[39;00m e:  \u001b[38;5;66;03m# pylint: disable=protected-access\u001b[39;00m\n\u001b[1;32m   1127\u001b[0m     \u001b[38;5;28;01mraise\u001b[39;00m core\u001b[38;5;241m.\u001b[39m_status_to_exception(e) \u001b[38;5;28;01mfrom\u001b[39;00m \u001b[38;5;28;01mNone\u001b[39;00m\n",
      "\u001b[0;31mKeyboardInterrupt\u001b[0m: "
     ]
    }
   ],
   "source": [
    "history = model.fit(\n",
    "     train_ds,\n",
    "     epochs=1000,\n",
    "     validation_data=val_ds,\n",
    "     class_weight=class_weight_dict,\n",
    "     callbacks=[early_stopping]\n",
    ")"
   ]
  },
  {
   "cell_type": "code",
   "execution_count": 116,
   "metadata": {},
   "outputs": [
    {
     "name": "stdout",
     "output_type": "stream",
     "text": [
      "La arquitectura del modelo y los pesos han sido guardados.\n"
     ]
    }
   ],
   "source": [
    "model.save('models/cnn_12_ago.keras')\n",
    "\n",
    "config = model.get_config()\n",
    "weights = model.get_weights()\n",
    "\n",
    "with open('models/cnn_12_ago_config.pkl', \"wb\") as f:\n",
    "    pickle.dump(config, f)\n",
    "\n",
    "with open('models/cnn_12_ago_weights.pkl', \"wb\") as f:\n",
    "    pickle.dump(weights, f)\n",
    "\n",
    "\n",
    "print(\"La arquitectura del modelo y los pesos han sido guardados.\")"
   ]
  },
  {
   "cell_type": "markdown",
   "metadata": {},
   "source": [
    "# MODEL"
   ]
  },
  {
   "cell_type": "code",
   "execution_count": 27,
   "metadata": {},
   "outputs": [],
   "source": [
    "def build_cnn_nuestro(input_shape, num_classes):\n",
    "    # Define the input layer with shape (224, 224, 3)\n",
    "    input_l = Input((224, 224, 3))\n",
    "   \n",
    "    # Initial convolutional layer\n",
    "    x_c = Conv2D(256, (3, 3), activation='relu', strides=1, kernel_regularizer=L2(0.001))(input_l)\n",
    "    x_c = BatchNormalization()(x_c)\n",
    "\n",
    "    # Block 1\n",
    "    # First convolutional layer in block 1\n",
    "    x_1 = Conv2D(256, (3, 3), activation='linear', padding='same', kernel_regularizer=L2(0.001))(x_c)\n",
    "    x_1 = BatchNormalization()(x_1)\n",
    "    x_1 = Activation('relu')(x_1)\n",
    "    x_1 = SpatialDropout2D(0.3)(x_1)\n",
    "\n",
    "    # Second convolutional layer in block 1\n",
    "    x_1 = Conv2D(256, (3, 3), activation='linear', padding='same', kernel_regularizer=L2(0.001))(x_1)\n",
    "    x_1 = BatchNormalization()(x_1)\n",
    "\n",
    "    # Identity shortcut connection for block 1\n",
    "    x_1_ident = Conv2D(256, (1, 1), activation='linear', padding='same', kernel_regularizer=L2(0.001))(x_c)\n",
    "    x_1_ident = BatchNormalization()(x_1_ident)\n",
    "    x_1_ident = SpatialDropout2D(0.3)(x_1_ident)\n",
    "\n",
    "    # Add the main path and shortcut connection\n",
    "    x_1 = add([x_1_ident, x_1])\n",
    "    x_1 = Activation('relu')(x_1)\n",
    "    x_1 = BatchNormalization()(x_1)\n",
    "\n",
    "    # Output of block 1\n",
    "    x_1_out = Conv2D(128, (3, 3), activation='relu', strides=2, kernel_regularizer=L2(0.001))(x_1)\n",
    "    x_1_out = BatchNormalization()(x_1_out)\n",
    "    x_1_out = SpatialDropout2D(0.3)(x_1_out)\n",
    "\n",
    "    # Block 2\n",
    "    # First convolutional layer in block 2\n",
    "    x_2 = Conv2D(128, (3, 3), activation='linear', padding='same', kernel_regularizer=L2(0.001))(x_1_out)\n",
    "    x_2 = BatchNormalization()(x_2)\n",
    "    x_2 = Activation('relu')(x_2)\n",
    "    x_2 = SpatialDropout2D(0.3)(x_2)\n",
    "\n",
    "    # Second convolutional layer in block 2\n",
    "    x_2 = Conv2D(128, (3, 3), activation='linear', padding='same', kernel_regularizer=L2(0.001))(x_2)\n",
    "    x_2 = BatchNormalization()(x_2)\n",
    "\n",
    "    # Identity shortcut connection for block 2\n",
    "    x_2_ident = Conv2D(128, (1, 1), activation='linear', padding='same', kernel_regularizer=L2(0.001))(x_1_out)\n",
    "    x_2_ident = BatchNormalization()(x_2_ident)\n",
    "    x_2_ident = SpatialDropout2D(0.3)(x_2_ident)\n",
    "\n",
    "    # Additional fractional shortcut connection for block 2\n",
    "    x_frac_1 = Conv2D(128, (3, 3), activation='linear', strides=2, kernel_regularizer=L2(0.001))(x_c)\n",
    "    x_frac_1 = BatchNormalization()(x_frac_1)\n",
    "    x_frac_1 = SpatialDropout2D(0.3)(x_frac_1)\n",
    "\n",
    "    # Add the main path, shortcut connections, and fractional path\n",
    "    x_2 = add([x_2_ident, x_2, x_frac_1])\n",
    "    x_2 = Activation('relu')(x_2)\n",
    "    x_2 = BatchNormalization()(x_2)\n",
    "\n",
    "    # Output of block 2\n",
    "    x_2_out = Conv2D(64, (3, 3), activation='relu', strides=2, kernel_regularizer=L2(0.001))(x_2)\n",
    "    x_2_out = BatchNormalization()(x_2_out)\n",
    "    x_2_out = SpatialDropout2D(0.3)(x_2_out)\n",
    "\n",
    "    # Block 3\n",
    "    # First convolutional layer in block 3\n",
    "    x_3 = Conv2D(64, (3, 3), activation='linear', padding='same', kernel_regularizer=L2(0.001))(x_2_out)\n",
    "    x_3 = BatchNormalization()(x_3)\n",
    "    x_3 = Activation('relu')(x_3)\n",
    "    x_3 = SpatialDropout2D(0.3)(x_3)\n",
    "\n",
    "    # Second convolutional layer in block 3\n",
    "    x_3 = Conv2D(64, (3, 3), activation='linear', padding='same', kernel_regularizer=L2(0.001))(x_3)\n",
    "    x_3 = BatchNormalization()(x_3)\n",
    "\n",
    "    # Identity shortcut connection for block 3\n",
    "    x_3_ident = Conv2D(64, (3, 3), activation='linear', padding='same', kernel_regularizer=L2(0.001))(x_2_out)\n",
    "    x_3_ident = BatchNormalization()(x_3_ident)\n",
    "    x_3_ident = SpatialDropout2D(0.3)(x_3_ident)\n",
    "\n",
    "    # Add the main path and shortcut connection\n",
    "    x_3 = add([x_3, x_3_ident])\n",
    "    x_3 = Activation('relu')(x_3)\n",
    "    x_3 = BatchNormalization()(x_3)\n",
    "\n",
    "    # Output of block 3\n",
    "    x_3_out = Conv2D(32, (3, 3), strides=2, activation='relu', kernel_regularizer=L2(0.001))(x_3)\n",
    "    x_3_out = BatchNormalization()(x_3_out)\n",
    "    x_3_out = SpatialDropout2D(0.3)(x_3_out)\n",
    "\n",
    "    # Block 4\n",
    "    # First convolutional layer in block 4\n",
    "    x_4 = Conv2D(32, (3, 3), activation='linear', padding='same', kernel_regularizer=L2(0.001))(x_3_out)\n",
    "    x_4 = BatchNormalization()(x_4)\n",
    "    x_4 = Activation('relu')(x_4)\n",
    "    x_4 = SpatialDropout2D(0.3)(x_4)\n",
    "\n",
    "    # Second convolutional layer in block 4\n",
    "    x_4 = Conv2D(32, (3, 3), activation='linear', padding='same', kernel_regularizer=L2(0.001))(x_4)\n",
    "    x_4 = BatchNormalization()(x_4)\n",
    "\n",
    "    # Identity shortcut connection for block 4\n",
    "    x_4_ident = Conv2D(32, (1, 1), activation='linear', padding='same', kernel_regularizer=L2(0.001))(x_3_out)\n",
    "    x_4_ident = BatchNormalization()(x_4_ident)\n",
    "    x_4_ident = SpatialDropout2D(0.3)(x_4_ident)\n",
    "\n",
    "    # Additional fractional shortcut connection for block 4\n",
    "    x_frac_2 = Conv2D(32, (3, 3), activation='linear', strides=2, kernel_regularizer=L2(0.001))(x_2_out)\n",
    "    x_frac_2 = BatchNormalization()(x_frac_2)\n",
    "    x_frac_2 = SpatialDropout2D(0.3)(x_frac_2)\n",
    "\n",
    "    # Fractional path for block 4\n",
    "    x_c2 = tf.keras.layers.ZeroPadding2D(padding=(3, 3))(x_c)\n",
    "    x_frac_final = Conv2D(32, (6, 6), activation='relu', strides=1, kernel_regularizer=L2(0.001))(x_c2)\n",
    "    x_frac_final = tf.keras.layers.MaxPool2D(2)(x_frac_final)\n",
    "    x_frac_final = Conv2D(32, (6, 6), activation='relu', strides=2, kernel_regularizer=L2(0.001))(x_frac_final)\n",
    "    x_frac_final = tf.keras.layers.MaxPool2D(2)(x_frac_final)\n",
    "    x_frac_final = BatchNormalization()(x_frac_final)\n",
    "    x_frac_final = SpatialDropout2D(0.3)(x_frac_final)\n",
    "\n",
    "    # Add the main path, shortcut connections, and fractional paths\n",
    "    x_4 = add([x_4_ident, x_4, x_frac_2, x_frac_final])\n",
    "    x_4 = Activation('relu')(x_4)\n",
    "    x_4 = BatchNormalization()(x_4)\n",
    "\n",
    "    # Flatten the output and add dense layers\n",
    "    x_o = Flatten()(x_4)\n",
    "    x_o = Dense(120, activation='leaky_relu')(x_o)\n",
    "    x_o = Dense(num_classes, activation='softmax')(x_o)\n",
    "\n",
    "    # Create and return the model\n",
    "    model_n = tf.keras.Model(input_l, x_o)\n",
    "    \n",
    "    return model_n\n"
   ]
  },
  {
   "cell_type": "code",
   "execution_count": 28,
   "metadata": {},
   "outputs": [],
   "source": [
    "# Limpiar sesión previa\n",
    "tf.keras.backend.clear_session()\n",
    "\n",
    "input_shape = (224, 224, 3)\n",
    "num_classes = 13\n",
    "\n",
    "model = build_cnn_nuestro(input_shape, num_classes)\n",
    "\n",
    "model.compile(optimizer=tf.keras.optimizers.Adam(learning_rate=1e-4),\n",
    "              loss='categorical_crossentropy',\n",
    "              metrics=['accuracy', F1Score(13,average='weighted')])\n",
    "\n",
    "# Callbacks\n",
    "early_stopping = EarlyStopping(monitor='val_loss', patience=8, restore_best_weights=True)\n",
    "reduce_lr = ReduceLROnPlateau(monitor='val_loss', factor=0.2, patience=5, min_lr=1e-7)\n"
   ]
  },
  {
   "cell_type": "code",
   "execution_count": null,
   "metadata": {},
   "outputs": [],
   "source": [
    "# Clear the previous TensorFlow session\n",
    "tf.keras.backend.clear_session()\n",
    "\n",
    "# Define input shape and number of output classes\n",
    "input_shape = (224, 224, 3)  \n",
    "num_classes = 13            \n",
    "\n",
    "# Build the CNN model\n",
    "model = build_cnn_nuestro(input_shape, num_classes)\n",
    "\n",
    "# Compile the model\n",
    "model.compile(\n",
    "    optimizer=tf.keras.optimizers.Adam(learning_rate=1e-4),  \n",
    "    loss='categorical_crossentropy',  \n",
    "    metrics=['accuracy', F1Score(13, average='weighted')]  \n",
    ")\n",
    "\n",
    "# Callbacks\n",
    "early_stopping = EarlyStopping( monitor='val_loss', patience=8, restore_best_weights=True )\n",
    "\n",
    "reduce_lr = ReduceLROnPlateau(\n",
    "    monitor='val_loss',  \n",
    "    factor=0.2,          \n",
    "    patience=5,          \n",
    "    min_lr=1e-7          \n",
    ")\n"
   ]
  },
  {
   "cell_type": "markdown",
   "metadata": {},
   "source": []
  },
  {
   "cell_type": "code",
   "execution_count": 29,
   "metadata": {},
   "outputs": [
    {
     "name": "stdout",
     "output_type": "stream",
     "text": [
      "Epoch 1/1000\n"
     ]
    },
    {
     "name": "stderr",
     "output_type": "stream",
     "text": [
      "2024-08-11 05:29:45.288209: I tensorflow/stream_executor/cuda/cuda_dnn.cc:384] Loaded cuDNN version 8100\n",
      "2024-08-11 05:29:50.672431: I tensorflow/stream_executor/cuda/cuda_blas.cc:1786] TensorFloat-32 will be used for the matrix multiplication. This will only be logged once.\n"
     ]
    },
    {
     "name": "stdout",
     "output_type": "stream",
     "text": [
      "4378/4378 [==============================] - ETA: 0s - loss: 4.2582 - accuracy: 0.3258 - f1_score: 0.3459"
     ]
    },
    {
     "name": "stderr",
     "output_type": "stream",
     "text": [
      "/usr/local/lib/python3.8/dist-packages/keras/engine/training.py:2086: UserWarning: Metric F1Score implements a `reset_states()` method; rename it to `reset_state()` (without the final \"s\"). The name `reset_states()` has been deprecated to improve API consistency.\n",
      "  m.reset_state()\n"
     ]
    },
    {
     "name": "stdout",
     "output_type": "stream",
     "text": [
      "4378/4378 [==============================] - 3206s 730ms/step - loss: 4.2582 - accuracy: 0.3258 - f1_score: 0.3459 - val_loss: 3.5695 - val_accuracy: 0.4663 - val_f1_score: 0.4749\n",
      "Epoch 2/1000\n",
      "4378/4378 [==============================] - 3152s 720ms/step - loss: 3.5286 - accuracy: 0.4342 - f1_score: 0.4532 - val_loss: 3.0674 - val_accuracy: 0.5164 - val_f1_score: 0.5214\n",
      "Epoch 3/1000\n",
      "4378/4378 [==============================] - 3091s 706ms/step - loss: 2.8666 - accuracy: 0.5141 - f1_score: 0.5287 - val_loss: 2.6412 - val_accuracy: 0.5565 - val_f1_score: 0.5732\n",
      "Epoch 4/1000\n",
      "4378/4378 [==============================] - 3144s 718ms/step - loss: 2.2443 - accuracy: 0.5834 - f1_score: 0.5925 - val_loss: 2.3260 - val_accuracy: 0.5481 - val_f1_score: 0.5638\n",
      "Epoch 5/1000\n",
      "4378/4378 [==============================] - 3176s 725ms/step - loss: 1.7413 - accuracy: 0.6558 - f1_score: 0.6613 - val_loss: 2.0355 - val_accuracy: 0.5931 - val_f1_score: 0.5988\n",
      "Epoch 6/1000\n",
      "4378/4378 [==============================] - 3159s 721ms/step - loss: 1.3583 - accuracy: 0.7144 - f1_score: 0.7170 - val_loss: 1.9476 - val_accuracy: 0.6036 - val_f1_score: 0.6095\n",
      "Epoch 7/1000\n",
      "4378/4378 [==============================] - 3150s 719ms/step - loss: 1.0787 - accuracy: 0.7664 - f1_score: 0.7678 - val_loss: 1.9620 - val_accuracy: 0.6064 - val_f1_score: 0.6155\n",
      "Epoch 8/1000\n",
      "4378/4378 [==============================] - 3050s 696ms/step - loss: 0.8698 - accuracy: 0.8122 - f1_score: 0.8127 - val_loss: 1.9541 - val_accuracy: 0.6100 - val_f1_score: 0.6129\n",
      "Epoch 9/1000\n",
      "4378/4378 [==============================] - 2977s 680ms/step - loss: 0.7119 - accuracy: 0.8448 - f1_score: 0.8448 - val_loss: 1.9714 - val_accuracy: 0.6277 - val_f1_score: 0.6321\n",
      "Epoch 10/1000\n",
      "4378/4378 [==============================] - 2979s 680ms/step - loss: 0.6018 - accuracy: 0.8676 - f1_score: 0.8676 - val_loss: 1.9143 - val_accuracy: 0.6270 - val_f1_score: 0.6303\n",
      "Epoch 11/1000\n",
      "4378/4378 [==============================] - 2981s 681ms/step - loss: 0.5193 - accuracy: 0.8881 - f1_score: 0.8881 - val_loss: 1.9995 - val_accuracy: 0.6245 - val_f1_score: 0.6255\n",
      "Epoch 12/1000\n",
      "4378/4378 [==============================] - 2982s 681ms/step - loss: 0.4535 - accuracy: 0.9036 - f1_score: 0.9036 - val_loss: 2.0400 - val_accuracy: 0.6313 - val_f1_score: 0.6327\n",
      "Epoch 13/1000\n",
      "4378/4378 [==============================] - 2987s 682ms/step - loss: 0.4018 - accuracy: 0.9188 - f1_score: 0.9188 - val_loss: 2.1020 - val_accuracy: 0.6354 - val_f1_score: 0.6380\n",
      "Epoch 14/1000\n",
      "4378/4378 [==============================] - 3007s 687ms/step - loss: 0.3727 - accuracy: 0.9235 - f1_score: 0.9235 - val_loss: 2.1461 - val_accuracy: 0.6438 - val_f1_score: 0.6459\n",
      "Epoch 15/1000\n",
      "1752/4378 [===========>..................] - ETA: 29:15 - loss: 0.3335 - accuracy: 0.9336 - f1_score: 0.9336"
     ]
    },
    {
     "ename": "KeyboardInterrupt",
     "evalue": "",
     "output_type": "error",
     "traceback": [
      "\u001b[0;31m---------------------------------------------------------------------------\u001b[0m",
      "\u001b[0;31mKeyboardInterrupt\u001b[0m                         Traceback (most recent call last)",
      "Cell \u001b[0;32mIn[29], line 1\u001b[0m\n\u001b[0;32m----> 1\u001b[0m history \u001b[38;5;241m=\u001b[39m \u001b[43mmodel\u001b[49m\u001b[38;5;241;43m.\u001b[39;49m\u001b[43mfit\u001b[49m\u001b[43m(\u001b[49m\n\u001b[1;32m      2\u001b[0m \u001b[43m     \u001b[49m\u001b[43mtrain_ds\u001b[49m\u001b[43m,\u001b[49m\n\u001b[1;32m      3\u001b[0m \u001b[43m     \u001b[49m\u001b[43mepochs\u001b[49m\u001b[38;5;241;43m=\u001b[39;49m\u001b[38;5;241;43m1000\u001b[39;49m\u001b[43m,\u001b[49m\n\u001b[1;32m      4\u001b[0m \u001b[43m     \u001b[49m\u001b[43mvalidation_data\u001b[49m\u001b[38;5;241;43m=\u001b[39;49m\u001b[43mval_ds\u001b[49m\u001b[43m,\u001b[49m\n\u001b[1;32m      5\u001b[0m \u001b[43m     \u001b[49m\u001b[43mclass_weight\u001b[49m\u001b[38;5;241;43m=\u001b[39;49m\u001b[43mclass_weight_dict\u001b[49m\u001b[43m,\u001b[49m\n\u001b[1;32m      6\u001b[0m \u001b[43m     \u001b[49m\u001b[43mcallbacks\u001b[49m\u001b[38;5;241;43m=\u001b[39;49m\u001b[43m[\u001b[49m\u001b[43mearly_stopping\u001b[49m\u001b[43m]\u001b[49m\n\u001b[1;32m      7\u001b[0m \u001b[43m)\u001b[49m\n",
      "File \u001b[0;32m/usr/local/lib/python3.8/dist-packages/keras/utils/traceback_utils.py:64\u001b[0m, in \u001b[0;36mfilter_traceback.<locals>.error_handler\u001b[0;34m(*args, **kwargs)\u001b[0m\n\u001b[1;32m     62\u001b[0m filtered_tb \u001b[38;5;241m=\u001b[39m \u001b[38;5;28;01mNone\u001b[39;00m\n\u001b[1;32m     63\u001b[0m \u001b[38;5;28;01mtry\u001b[39;00m:\n\u001b[0;32m---> 64\u001b[0m   \u001b[38;5;28;01mreturn\u001b[39;00m \u001b[43mfn\u001b[49m\u001b[43m(\u001b[49m\u001b[38;5;241;43m*\u001b[39;49m\u001b[43margs\u001b[49m\u001b[43m,\u001b[49m\u001b[43m \u001b[49m\u001b[38;5;241;43m*\u001b[39;49m\u001b[38;5;241;43m*\u001b[39;49m\u001b[43mkwargs\u001b[49m\u001b[43m)\u001b[49m\n\u001b[1;32m     65\u001b[0m \u001b[38;5;28;01mexcept\u001b[39;00m \u001b[38;5;167;01mException\u001b[39;00m \u001b[38;5;28;01mas\u001b[39;00m e:  \u001b[38;5;66;03m# pylint: disable=broad-except\u001b[39;00m\n\u001b[1;32m     66\u001b[0m   filtered_tb \u001b[38;5;241m=\u001b[39m _process_traceback_frames(e\u001b[38;5;241m.\u001b[39m__traceback__)\n",
      "File \u001b[0;32m/usr/local/lib/python3.8/dist-packages/keras/engine/training.py:1414\u001b[0m, in \u001b[0;36mModel.fit\u001b[0;34m(self, x, y, batch_size, epochs, verbose, callbacks, validation_split, validation_data, shuffle, class_weight, sample_weight, initial_epoch, steps_per_epoch, validation_steps, validation_batch_size, validation_freq, max_queue_size, workers, use_multiprocessing)\u001b[0m\n\u001b[1;32m   1412\u001b[0m logs \u001b[38;5;241m=\u001b[39m tmp_logs  \u001b[38;5;66;03m# No error, now safe to assign to logs.\u001b[39;00m\n\u001b[1;32m   1413\u001b[0m end_step \u001b[38;5;241m=\u001b[39m step \u001b[38;5;241m+\u001b[39m data_handler\u001b[38;5;241m.\u001b[39mstep_increment\n\u001b[0;32m-> 1414\u001b[0m \u001b[43mcallbacks\u001b[49m\u001b[38;5;241;43m.\u001b[39;49m\u001b[43mon_train_batch_end\u001b[49m\u001b[43m(\u001b[49m\u001b[43mend_step\u001b[49m\u001b[43m,\u001b[49m\u001b[43m \u001b[49m\u001b[43mlogs\u001b[49m\u001b[43m)\u001b[49m\n\u001b[1;32m   1415\u001b[0m \u001b[38;5;28;01mif\u001b[39;00m \u001b[38;5;28mself\u001b[39m\u001b[38;5;241m.\u001b[39mstop_training:\n\u001b[1;32m   1416\u001b[0m   \u001b[38;5;28;01mbreak\u001b[39;00m\n",
      "File \u001b[0;32m/usr/local/lib/python3.8/dist-packages/keras/callbacks.py:438\u001b[0m, in \u001b[0;36mCallbackList.on_train_batch_end\u001b[0;34m(self, batch, logs)\u001b[0m\n\u001b[1;32m    431\u001b[0m \u001b[38;5;250m\u001b[39m\u001b[38;5;124;03m\"\"\"Calls the `on_train_batch_end` methods of its callbacks.\u001b[39;00m\n\u001b[1;32m    432\u001b[0m \n\u001b[1;32m    433\u001b[0m \u001b[38;5;124;03mArgs:\u001b[39;00m\n\u001b[1;32m    434\u001b[0m \u001b[38;5;124;03m    batch: Integer, index of batch within the current epoch.\u001b[39;00m\n\u001b[1;32m    435\u001b[0m \u001b[38;5;124;03m    logs: Dict. Aggregated metric results up until this batch.\u001b[39;00m\n\u001b[1;32m    436\u001b[0m \u001b[38;5;124;03m\"\"\"\u001b[39;00m\n\u001b[1;32m    437\u001b[0m \u001b[38;5;28;01mif\u001b[39;00m \u001b[38;5;28mself\u001b[39m\u001b[38;5;241m.\u001b[39m_should_call_train_batch_hooks:\n\u001b[0;32m--> 438\u001b[0m   \u001b[38;5;28;43mself\u001b[39;49m\u001b[38;5;241;43m.\u001b[39;49m\u001b[43m_call_batch_hook\u001b[49m\u001b[43m(\u001b[49m\u001b[43mModeKeys\u001b[49m\u001b[38;5;241;43m.\u001b[39;49m\u001b[43mTRAIN\u001b[49m\u001b[43m,\u001b[49m\u001b[43m \u001b[49m\u001b[38;5;124;43m'\u001b[39;49m\u001b[38;5;124;43mend\u001b[39;49m\u001b[38;5;124;43m'\u001b[39;49m\u001b[43m,\u001b[49m\u001b[43m \u001b[49m\u001b[43mbatch\u001b[49m\u001b[43m,\u001b[49m\u001b[43m \u001b[49m\u001b[43mlogs\u001b[49m\u001b[38;5;241;43m=\u001b[39;49m\u001b[43mlogs\u001b[49m\u001b[43m)\u001b[49m\n",
      "File \u001b[0;32m/usr/local/lib/python3.8/dist-packages/keras/callbacks.py:297\u001b[0m, in \u001b[0;36mCallbackList._call_batch_hook\u001b[0;34m(self, mode, hook, batch, logs)\u001b[0m\n\u001b[1;32m    295\u001b[0m   \u001b[38;5;28mself\u001b[39m\u001b[38;5;241m.\u001b[39m_call_batch_begin_hook(mode, batch, logs)\n\u001b[1;32m    296\u001b[0m \u001b[38;5;28;01melif\u001b[39;00m hook \u001b[38;5;241m==\u001b[39m \u001b[38;5;124m'\u001b[39m\u001b[38;5;124mend\u001b[39m\u001b[38;5;124m'\u001b[39m:\n\u001b[0;32m--> 297\u001b[0m   \u001b[38;5;28;43mself\u001b[39;49m\u001b[38;5;241;43m.\u001b[39;49m\u001b[43m_call_batch_end_hook\u001b[49m\u001b[43m(\u001b[49m\u001b[43mmode\u001b[49m\u001b[43m,\u001b[49m\u001b[43m \u001b[49m\u001b[43mbatch\u001b[49m\u001b[43m,\u001b[49m\u001b[43m \u001b[49m\u001b[43mlogs\u001b[49m\u001b[43m)\u001b[49m\n\u001b[1;32m    298\u001b[0m \u001b[38;5;28;01melse\u001b[39;00m:\n\u001b[1;32m    299\u001b[0m   \u001b[38;5;28;01mraise\u001b[39;00m \u001b[38;5;167;01mValueError\u001b[39;00m(\n\u001b[1;32m    300\u001b[0m       \u001b[38;5;124mf\u001b[39m\u001b[38;5;124m'\u001b[39m\u001b[38;5;124mUnrecognized hook: \u001b[39m\u001b[38;5;132;01m{\u001b[39;00mhook\u001b[38;5;132;01m}\u001b[39;00m\u001b[38;5;124m. Expected values are [\u001b[39m\u001b[38;5;124m\"\u001b[39m\u001b[38;5;124mbegin\u001b[39m\u001b[38;5;124m\"\u001b[39m\u001b[38;5;124m, \u001b[39m\u001b[38;5;124m\"\u001b[39m\u001b[38;5;124mend\u001b[39m\u001b[38;5;124m\"\u001b[39m\u001b[38;5;124m]\u001b[39m\u001b[38;5;124m'\u001b[39m)\n",
      "File \u001b[0;32m/usr/local/lib/python3.8/dist-packages/keras/callbacks.py:318\u001b[0m, in \u001b[0;36mCallbackList._call_batch_end_hook\u001b[0;34m(self, mode, batch, logs)\u001b[0m\n\u001b[1;32m    315\u001b[0m   batch_time \u001b[38;5;241m=\u001b[39m time\u001b[38;5;241m.\u001b[39mtime() \u001b[38;5;241m-\u001b[39m \u001b[38;5;28mself\u001b[39m\u001b[38;5;241m.\u001b[39m_batch_start_time\n\u001b[1;32m    316\u001b[0m   \u001b[38;5;28mself\u001b[39m\u001b[38;5;241m.\u001b[39m_batch_times\u001b[38;5;241m.\u001b[39mappend(batch_time)\n\u001b[0;32m--> 318\u001b[0m \u001b[38;5;28;43mself\u001b[39;49m\u001b[38;5;241;43m.\u001b[39;49m\u001b[43m_call_batch_hook_helper\u001b[49m\u001b[43m(\u001b[49m\u001b[43mhook_name\u001b[49m\u001b[43m,\u001b[49m\u001b[43m \u001b[49m\u001b[43mbatch\u001b[49m\u001b[43m,\u001b[49m\u001b[43m \u001b[49m\u001b[43mlogs\u001b[49m\u001b[43m)\u001b[49m\n\u001b[1;32m    320\u001b[0m \u001b[38;5;28;01mif\u001b[39;00m \u001b[38;5;28mlen\u001b[39m(\u001b[38;5;28mself\u001b[39m\u001b[38;5;241m.\u001b[39m_batch_times) \u001b[38;5;241m>\u001b[39m\u001b[38;5;241m=\u001b[39m \u001b[38;5;28mself\u001b[39m\u001b[38;5;241m.\u001b[39m_num_batches_for_timing_check:\n\u001b[1;32m    321\u001b[0m   end_hook_name \u001b[38;5;241m=\u001b[39m hook_name\n",
      "File \u001b[0;32m/usr/local/lib/python3.8/dist-packages/keras/callbacks.py:356\u001b[0m, in \u001b[0;36mCallbackList._call_batch_hook_helper\u001b[0;34m(self, hook_name, batch, logs)\u001b[0m\n\u001b[1;32m    354\u001b[0m \u001b[38;5;28;01mfor\u001b[39;00m callback \u001b[38;5;129;01min\u001b[39;00m \u001b[38;5;28mself\u001b[39m\u001b[38;5;241m.\u001b[39mcallbacks:\n\u001b[1;32m    355\u001b[0m   hook \u001b[38;5;241m=\u001b[39m \u001b[38;5;28mgetattr\u001b[39m(callback, hook_name)\n\u001b[0;32m--> 356\u001b[0m   \u001b[43mhook\u001b[49m\u001b[43m(\u001b[49m\u001b[43mbatch\u001b[49m\u001b[43m,\u001b[49m\u001b[43m \u001b[49m\u001b[43mlogs\u001b[49m\u001b[43m)\u001b[49m\n\u001b[1;32m    358\u001b[0m \u001b[38;5;28;01mif\u001b[39;00m \u001b[38;5;28mself\u001b[39m\u001b[38;5;241m.\u001b[39m_check_timing:\n\u001b[1;32m    359\u001b[0m   \u001b[38;5;28;01mif\u001b[39;00m hook_name \u001b[38;5;129;01mnot\u001b[39;00m \u001b[38;5;129;01min\u001b[39;00m \u001b[38;5;28mself\u001b[39m\u001b[38;5;241m.\u001b[39m_hook_times:\n",
      "File \u001b[0;32m/usr/local/lib/python3.8/dist-packages/keras/callbacks.py:1034\u001b[0m, in \u001b[0;36mProgbarLogger.on_train_batch_end\u001b[0;34m(self, batch, logs)\u001b[0m\n\u001b[1;32m   1033\u001b[0m \u001b[38;5;28;01mdef\u001b[39;00m \u001b[38;5;21mon_train_batch_end\u001b[39m(\u001b[38;5;28mself\u001b[39m, batch, logs\u001b[38;5;241m=\u001b[39m\u001b[38;5;28;01mNone\u001b[39;00m):\n\u001b[0;32m-> 1034\u001b[0m   \u001b[38;5;28;43mself\u001b[39;49m\u001b[38;5;241;43m.\u001b[39;49m\u001b[43m_batch_update_progbar\u001b[49m\u001b[43m(\u001b[49m\u001b[43mbatch\u001b[49m\u001b[43m,\u001b[49m\u001b[43m \u001b[49m\u001b[43mlogs\u001b[49m\u001b[43m)\u001b[49m\n",
      "File \u001b[0;32m/usr/local/lib/python3.8/dist-packages/keras/callbacks.py:1106\u001b[0m, in \u001b[0;36mProgbarLogger._batch_update_progbar\u001b[0;34m(self, batch, logs)\u001b[0m\n\u001b[1;32m   1102\u001b[0m   \u001b[38;5;28mself\u001b[39m\u001b[38;5;241m.\u001b[39mseen \u001b[38;5;241m+\u001b[39m\u001b[38;5;241m=\u001b[39m add_seen\n\u001b[1;32m   1104\u001b[0m \u001b[38;5;28;01mif\u001b[39;00m \u001b[38;5;28mself\u001b[39m\u001b[38;5;241m.\u001b[39mverbose \u001b[38;5;241m==\u001b[39m \u001b[38;5;241m1\u001b[39m:\n\u001b[1;32m   1105\u001b[0m   \u001b[38;5;66;03m# Only block async when verbose = 1.\u001b[39;00m\n\u001b[0;32m-> 1106\u001b[0m   logs \u001b[38;5;241m=\u001b[39m \u001b[43mtf_utils\u001b[49m\u001b[38;5;241;43m.\u001b[39;49m\u001b[43msync_to_numpy_or_python_type\u001b[49m\u001b[43m(\u001b[49m\u001b[43mlogs\u001b[49m\u001b[43m)\u001b[49m\n\u001b[1;32m   1107\u001b[0m   \u001b[38;5;28mself\u001b[39m\u001b[38;5;241m.\u001b[39mprogbar\u001b[38;5;241m.\u001b[39mupdate(\u001b[38;5;28mself\u001b[39m\u001b[38;5;241m.\u001b[39mseen, \u001b[38;5;28mlist\u001b[39m(logs\u001b[38;5;241m.\u001b[39mitems()), finalize\u001b[38;5;241m=\u001b[39m\u001b[38;5;28;01mFalse\u001b[39;00m)\n",
      "File \u001b[0;32m/usr/local/lib/python3.8/dist-packages/keras/utils/tf_utils.py:607\u001b[0m, in \u001b[0;36msync_to_numpy_or_python_type\u001b[0;34m(tensors)\u001b[0m\n\u001b[1;32m    604\u001b[0m     \u001b[38;5;28;01mreturn\u001b[39;00m t\n\u001b[1;32m    605\u001b[0m   \u001b[38;5;28;01mreturn\u001b[39;00m t\u001b[38;5;241m.\u001b[39mitem() \u001b[38;5;28;01mif\u001b[39;00m np\u001b[38;5;241m.\u001b[39mndim(t) \u001b[38;5;241m==\u001b[39m \u001b[38;5;241m0\u001b[39m \u001b[38;5;28;01melse\u001b[39;00m t\n\u001b[0;32m--> 607\u001b[0m \u001b[38;5;28;01mreturn\u001b[39;00m \u001b[43mtf\u001b[49m\u001b[38;5;241;43m.\u001b[39;49m\u001b[43mnest\u001b[49m\u001b[38;5;241;43m.\u001b[39;49m\u001b[43mmap_structure\u001b[49m\u001b[43m(\u001b[49m\u001b[43m_to_single_numpy_or_python_type\u001b[49m\u001b[43m,\u001b[49m\u001b[43m \u001b[49m\u001b[43mtensors\u001b[49m\u001b[43m)\u001b[49m\n",
      "File \u001b[0;32m/usr/local/lib/python3.8/dist-packages/tensorflow/python/util/nest.py:916\u001b[0m, in \u001b[0;36mmap_structure\u001b[0;34m(func, *structure, **kwargs)\u001b[0m\n\u001b[1;32m    912\u001b[0m flat_structure \u001b[38;5;241m=\u001b[39m (flatten(s, expand_composites) \u001b[38;5;28;01mfor\u001b[39;00m s \u001b[38;5;129;01min\u001b[39;00m structure)\n\u001b[1;32m    913\u001b[0m entries \u001b[38;5;241m=\u001b[39m \u001b[38;5;28mzip\u001b[39m(\u001b[38;5;241m*\u001b[39mflat_structure)\n\u001b[1;32m    915\u001b[0m \u001b[38;5;28;01mreturn\u001b[39;00m pack_sequence_as(\n\u001b[0;32m--> 916\u001b[0m     structure[\u001b[38;5;241m0\u001b[39m], [func(\u001b[38;5;241m*\u001b[39mx) \u001b[38;5;28;01mfor\u001b[39;00m x \u001b[38;5;129;01min\u001b[39;00m entries],\n\u001b[1;32m    917\u001b[0m     expand_composites\u001b[38;5;241m=\u001b[39mexpand_composites)\n",
      "File \u001b[0;32m/usr/local/lib/python3.8/dist-packages/tensorflow/python/util/nest.py:916\u001b[0m, in \u001b[0;36m<listcomp>\u001b[0;34m(.0)\u001b[0m\n\u001b[1;32m    912\u001b[0m flat_structure \u001b[38;5;241m=\u001b[39m (flatten(s, expand_composites) \u001b[38;5;28;01mfor\u001b[39;00m s \u001b[38;5;129;01min\u001b[39;00m structure)\n\u001b[1;32m    913\u001b[0m entries \u001b[38;5;241m=\u001b[39m \u001b[38;5;28mzip\u001b[39m(\u001b[38;5;241m*\u001b[39mflat_structure)\n\u001b[1;32m    915\u001b[0m \u001b[38;5;28;01mreturn\u001b[39;00m pack_sequence_as(\n\u001b[0;32m--> 916\u001b[0m     structure[\u001b[38;5;241m0\u001b[39m], [\u001b[43mfunc\u001b[49m\u001b[43m(\u001b[49m\u001b[38;5;241;43m*\u001b[39;49m\u001b[43mx\u001b[49m\u001b[43m)\u001b[49m \u001b[38;5;28;01mfor\u001b[39;00m x \u001b[38;5;129;01min\u001b[39;00m entries],\n\u001b[1;32m    917\u001b[0m     expand_composites\u001b[38;5;241m=\u001b[39mexpand_composites)\n",
      "File \u001b[0;32m/usr/local/lib/python3.8/dist-packages/keras/utils/tf_utils.py:601\u001b[0m, in \u001b[0;36msync_to_numpy_or_python_type.<locals>._to_single_numpy_or_python_type\u001b[0;34m(t)\u001b[0m\n\u001b[1;32m    598\u001b[0m \u001b[38;5;28;01mdef\u001b[39;00m \u001b[38;5;21m_to_single_numpy_or_python_type\u001b[39m(t):\n\u001b[1;32m    599\u001b[0m   \u001b[38;5;66;03m# Don't turn ragged or sparse tensors to NumPy.\u001b[39;00m\n\u001b[1;32m    600\u001b[0m   \u001b[38;5;28;01mif\u001b[39;00m \u001b[38;5;28misinstance\u001b[39m(t, tf\u001b[38;5;241m.\u001b[39mTensor):\n\u001b[0;32m--> 601\u001b[0m     t \u001b[38;5;241m=\u001b[39m \u001b[43mt\u001b[49m\u001b[38;5;241;43m.\u001b[39;49m\u001b[43mnumpy\u001b[49m\u001b[43m(\u001b[49m\u001b[43m)\u001b[49m\n\u001b[1;32m    602\u001b[0m   \u001b[38;5;66;03m# Strings, ragged and sparse tensors don't have .item(). Return them as-is.\u001b[39;00m\n\u001b[1;32m    603\u001b[0m   \u001b[38;5;28;01mif\u001b[39;00m \u001b[38;5;129;01mnot\u001b[39;00m \u001b[38;5;28misinstance\u001b[39m(t, (np\u001b[38;5;241m.\u001b[39mndarray, np\u001b[38;5;241m.\u001b[39mgeneric)):\n",
      "File \u001b[0;32m/usr/local/lib/python3.8/dist-packages/tensorflow/python/framework/ops.py:1159\u001b[0m, in \u001b[0;36m_EagerTensorBase.numpy\u001b[0;34m(self)\u001b[0m\n\u001b[1;32m   1136\u001b[0m \u001b[38;5;250m\u001b[39m\u001b[38;5;124;03m\"\"\"Copy of the contents of this Tensor into a NumPy array or scalar.\u001b[39;00m\n\u001b[1;32m   1137\u001b[0m \n\u001b[1;32m   1138\u001b[0m \u001b[38;5;124;03mUnlike NumPy arrays, Tensors are immutable, so this method has to copy\u001b[39;00m\n\u001b[0;32m   (...)\u001b[0m\n\u001b[1;32m   1156\u001b[0m \u001b[38;5;124;03m    NumPy dtype.\u001b[39;00m\n\u001b[1;32m   1157\u001b[0m \u001b[38;5;124;03m\"\"\"\u001b[39;00m\n\u001b[1;32m   1158\u001b[0m \u001b[38;5;66;03m# TODO(slebedev): Consider avoiding a copy for non-CPU or remote tensors.\u001b[39;00m\n\u001b[0;32m-> 1159\u001b[0m maybe_arr \u001b[38;5;241m=\u001b[39m \u001b[38;5;28;43mself\u001b[39;49m\u001b[38;5;241;43m.\u001b[39;49m\u001b[43m_numpy\u001b[49m\u001b[43m(\u001b[49m\u001b[43m)\u001b[49m  \u001b[38;5;66;03m# pylint: disable=protected-access\u001b[39;00m\n\u001b[1;32m   1160\u001b[0m \u001b[38;5;28;01mreturn\u001b[39;00m maybe_arr\u001b[38;5;241m.\u001b[39mcopy() \u001b[38;5;28;01mif\u001b[39;00m \u001b[38;5;28misinstance\u001b[39m(maybe_arr, np\u001b[38;5;241m.\u001b[39mndarray) \u001b[38;5;28;01melse\u001b[39;00m maybe_arr\n",
      "File \u001b[0;32m/usr/local/lib/python3.8/dist-packages/tensorflow/python/framework/ops.py:1125\u001b[0m, in \u001b[0;36m_EagerTensorBase._numpy\u001b[0;34m(self)\u001b[0m\n\u001b[1;32m   1123\u001b[0m \u001b[38;5;28;01mdef\u001b[39;00m \u001b[38;5;21m_numpy\u001b[39m(\u001b[38;5;28mself\u001b[39m):\n\u001b[1;32m   1124\u001b[0m   \u001b[38;5;28;01mtry\u001b[39;00m:\n\u001b[0;32m-> 1125\u001b[0m     \u001b[38;5;28;01mreturn\u001b[39;00m \u001b[38;5;28;43mself\u001b[39;49m\u001b[38;5;241;43m.\u001b[39;49m\u001b[43m_numpy_internal\u001b[49m\u001b[43m(\u001b[49m\u001b[43m)\u001b[49m\n\u001b[1;32m   1126\u001b[0m   \u001b[38;5;28;01mexcept\u001b[39;00m core\u001b[38;5;241m.\u001b[39m_NotOkStatusException \u001b[38;5;28;01mas\u001b[39;00m e:  \u001b[38;5;66;03m# pylint: disable=protected-access\u001b[39;00m\n\u001b[1;32m   1127\u001b[0m     \u001b[38;5;28;01mraise\u001b[39;00m core\u001b[38;5;241m.\u001b[39m_status_to_exception(e) \u001b[38;5;28;01mfrom\u001b[39;00m \u001b[38;5;28;01mNone\u001b[39;00m\n",
      "\u001b[0;31mKeyboardInterrupt\u001b[0m: "
     ]
    }
   ],
   "source": [
    "history = model.fit(\n",
    "     train_ds,\n",
    "     epochs=1000,\n",
    "     validation_data=val_ds,\n",
    "     \n",
    "     class_weight=class_weight_dict,\n",
    "     callbacks=[early_stopping]\n",
    ")"
   ]
  },
  {
   "cell_type": "code",
   "execution_count": 32,
   "metadata": {},
   "outputs": [
    {
     "name": "stdout",
     "output_type": "stream",
     "text": [
      "La arquitectura del modelo y los pesos han sido guardados.\n"
     ]
    }
   ],
   "source": [
    "model.save('models/cnn_10ago.keras')\n",
    "\n",
    "config = model.get_config()\n",
    "weights = model.get_weights()\n",
    "\n",
    "with open('models/cnn_10ago_config.pkl', \"wb\") as f:\n",
    "    pickle.dump(config, f)\n",
    "\n",
    "with open('models/cnn_10ago_weights.pkl', \"wb\") as f:\n",
    "    pickle.dump(weights, f)\n",
    "\n",
    "\n",
    "print(\"La arquitectura del modelo y los pesos han sido guardados.\")"
   ]
  },
  {
   "cell_type": "code",
   "execution_count": 30,
   "metadata": {},
   "outputs": [
    {
     "name": "stdout",
     "output_type": "stream",
     "text": [
      "937/937 [==============================] - 202s 215ms/step\n"
     ]
    }
   ],
   "source": [
    "import numpy as np\n",
    "\n",
    "# Hacer predicciones en el conjunto de datos de prueba\n",
    "test_predictions = model.predict(test_ds)\n",
    "\n",
    "# Convertir predicciones y etiquetas a sus valores originales\n",
    "test_pred_classes = np.argmax(test_predictions, axis=1)\n",
    "test_true_classes = np.argmax(test_labels, axis=1)"
   ]
  },
  {
   "cell_type": "code",
   "execution_count": 33,
   "metadata": {},
   "outputs": [
    {
     "name": "stdout",
     "output_type": "stream",
     "text": [
      "F1-score: 0.6272676666826845\n",
      "Precision: 0.6289804015650143\n",
      "Recall: 0.6274195701508477\n",
      "              precision    recall  f1-score   support\n",
      "\n",
      "           0       0.66      0.68      0.67      1431\n",
      "           1       0.47      0.57      0.51       483\n",
      "           2       0.55      0.52      0.53       536\n",
      "           3       0.43      0.47      0.45       412\n",
      "           4       0.75      0.78      0.76       955\n",
      "           5       0.62      0.59      0.61       864\n",
      "           6       0.60      0.52      0.56       731\n",
      "           7       0.46      0.42      0.44       207\n",
      "           8       0.51      0.50      0.51       415\n",
      "           9       0.62      0.69      0.65       213\n",
      "          10       0.47      0.46      0.47       316\n",
      "          11       0.35      0.30      0.32       100\n",
      "          12       0.91      0.87      0.89       828\n",
      "\n",
      "    accuracy                           0.63      7491\n",
      "   macro avg       0.57      0.57      0.57      7491\n",
      "weighted avg       0.63      0.63      0.63      7491\n",
      "\n"
     ]
    }
   ],
   "source": [
    "from sklearn.metrics import f1_score, precision_score, recall_score, classification_report\n",
    "\n",
    "# Calcular F1-score\n",
    "f1 = f1_score(test_true_classes, test_pred_classes, average='weighted')\n",
    "precision = precision_score(test_true_classes, test_pred_classes, average='weighted')\n",
    "recall = recall_score(test_true_classes, test_pred_classes, average='weighted')\n",
    "\n",
    "# Imprimir las métricas\n",
    "print(f'F1-score: {f1}')\n",
    "print(f'Precision: {precision}')\n",
    "print(f'Recall: {recall}')\n",
    "\n",
    "# Mostrar el reporte de clasificación\n",
    "print(classification_report(test_true_classes, test_pred_classes))"
   ]
  },
  {
   "cell_type": "code",
   "execution_count": 34,
   "metadata": {},
   "outputs": [
    {
     "ename": "NameError",
     "evalue": "name 'history' is not defined",
     "output_type": "error",
     "traceback": [
      "\u001b[0;31m---------------------------------------------------------------------------\u001b[0m",
      "\u001b[0;31mNameError\u001b[0m                                 Traceback (most recent call last)",
      "Cell \u001b[0;32mIn[34], line 5\u001b[0m\n\u001b[1;32m      3\u001b[0m \u001b[38;5;66;03m# Graficar la pérdida (loss) durante el entrenamiento y la validación\u001b[39;00m\n\u001b[1;32m      4\u001b[0m plt\u001b[38;5;241m.\u001b[39mfigure(figsize\u001b[38;5;241m=\u001b[39m(\u001b[38;5;241m8\u001b[39m, \u001b[38;5;241m4\u001b[39m))\n\u001b[0;32m----> 5\u001b[0m plt\u001b[38;5;241m.\u001b[39mplot(\u001b[43mhistory\u001b[49m\u001b[38;5;241m.\u001b[39mhistory[\u001b[38;5;124m'\u001b[39m\u001b[38;5;124mloss\u001b[39m\u001b[38;5;124m'\u001b[39m], label\u001b[38;5;241m=\u001b[39m\u001b[38;5;124m'\u001b[39m\u001b[38;5;124mTraining Loss\u001b[39m\u001b[38;5;124m'\u001b[39m)\n\u001b[1;32m      6\u001b[0m plt\u001b[38;5;241m.\u001b[39mplot(history\u001b[38;5;241m.\u001b[39mhistory[\u001b[38;5;124m'\u001b[39m\u001b[38;5;124mval_loss\u001b[39m\u001b[38;5;124m'\u001b[39m], label\u001b[38;5;241m=\u001b[39m\u001b[38;5;124m'\u001b[39m\u001b[38;5;124mValidation Loss\u001b[39m\u001b[38;5;124m'\u001b[39m)\n\u001b[1;32m      7\u001b[0m plt\u001b[38;5;241m.\u001b[39mxlabel(\u001b[38;5;124m'\u001b[39m\u001b[38;5;124mEpoch\u001b[39m\u001b[38;5;124m'\u001b[39m)\n",
      "\u001b[0;31mNameError\u001b[0m: name 'history' is not defined"
     ]
    },
    {
     "data": {
      "text/plain": [
       "<Figure size 800x400 with 0 Axes>"
      ]
     },
     "metadata": {},
     "output_type": "display_data"
    }
   ],
   "source": [
    "import matplotlib.pyplot as plt\n",
    "\n",
    "# Graficar la pérdida (loss) durante el entrenamiento y la validación\n",
    "plt.figure(figsize=(8, 4))\n",
    "plt.plot(history.history['loss'], label='Training Loss')\n",
    "plt.plot(history.history['val_loss'], label='Validation Loss')\n",
    "plt.xlabel('Epoch')\n",
    "plt.ylabel('Loss')\n",
    "plt.title('Training and Validation Loss')\n",
    "plt.legend()\n",
    "plt.show()\n",
    "\n",
    "# Graficar la precisión (accuracy) durante el entrenamiento y la validación\n",
    "plt.figure(figsize=(8, 4))\n",
    "plt.plot(history.history['accuracy'], label='Training Accuracy')\n",
    "plt.plot(history.history['val_accuracy'], label='Validation Accuracy')\n",
    "plt.xlabel('Epoch')\n",
    "plt.ylabel('Accuracy')\n",
    "plt.title('Training and Validation Accuracy')\n",
    "plt.legend()\n",
    "plt.show()"
   ]
  },
  {
   "cell_type": "code",
   "execution_count": 44,
   "metadata": {},
   "outputs": [
    {
     "data": {
      "image/png": "[encoded data removed]",
      "text/plain": [
       "<Figure size 1200x400 with 2 Axes>"
      ]
     },
     "metadata": {},
     "output_type": "display_data"
    }
   ],
   "source": [
    "import matplotlib.pyplot as plt\n",
    "\n",
    "# Supongamos que `history` es el resultado del entrenamiento del modelo\n",
    "history_dict = history.history\n",
    "\n",
    "# Extraer métricas de historial\n",
    "loss = history_dict['loss']\n",
    "val_loss = history_dict['val_loss']\n",
    "accuracy = history_dict['accuracy']\n",
    "val_accuracy = history_dict['val_accuracy']\n",
    "\n",
    "epochs = range(1, len(loss) + 1)\n",
    "\n",
    "# Graficar la pérdida\n",
    "plt.figure(figsize=(12, 4))\n",
    "\n",
    "plt.subplot(1, 2, 1)\n",
    "plt.plot(epochs, loss, 'bo-', label='Pérdida en Entrenamiento')\n",
    "plt.plot(epochs, val_loss, 'ro-', label='Pérdida en Validación')\n",
    "plt.title('Pérdida en Entrenamiento y Validación')\n",
    "plt.xlabel('Épocas')\n",
    "plt.ylabel('Pérdida')\n",
    "plt.legend()\n",
    "\n",
    "# Graficar la exactitud\n",
    "plt.subplot(1, 2, 2)\n",
    "plt.plot(epochs, accuracy, 'bo-', label='Exactitud en Entrenamiento')\n",
    "plt.plot(epochs, val_accuracy, 'ro-', label='Exactitud en Validación')\n",
    "plt.title('Exactitud en Entrenamiento y Validación')\n",
    "plt.xlabel('Épocas')\n",
    "plt.ylabel('Exactitud')\n",
    "plt.legend()\n",
    "\n",
    "plt.show()\n"
   ]
  }
 ],
 "metadata": {
  "kernelspec": {
   "display_name": "Python 3",
   "language": "python",
   "name": "python3"
  },
  "language_info": {
   "codemirror_mode": {
    "name": "ipython",
    "version": 3
   },
   "file_extension": ".py",
   "mimetype": "text/x-python",
   "name": "python",
   "nbconvert_exporter": "python",
   "pygments_lexer": "ipython3",
   "version": "3.8.10"
  }
 },
 "nbformat": 4,
 "nbformat_minor": 2
}
